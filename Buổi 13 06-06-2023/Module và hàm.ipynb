{
 "cells": [
  {
   "cell_type": "markdown",
   "id": "05948314",
   "metadata": {},
   "source": [
    "# Function"
   ]
  },
  {
   "cell_type": "markdown",
   "id": "3b68247e",
   "metadata": {},
   "source": [
    "## Function(hàm) là gì?"
   ]
  },
  {
   "cell_type": "markdown",
   "id": "cf84a685",
   "metadata": {},
   "source": [
    "Hàm (function) là một khối lệnh đặc biệt, nó được đặt tên, giúp mã chương trình dễ đọc hơn, và có thể gọi để sử dụng ở các nơi khác nhau trong chương trình. Hàm chính là khối lệnh có thể tái sử dụng (reuseable)."
   ]
  },
  {
   "cell_type": "markdown",
   "id": "3636c8b1",
   "metadata": {},
   "source": [
    "### Hàm\n",
    "\n",
    "Cú pháp:\n",
    "\n",
    "`def <tên hàm>(<tham số>):\n",
    "    //Nội dung hàm`\n",
    "\n",
    "Gọi hàm:\n",
    "`<tên hàm>(<giá trị đầu vào>)`"
   ]
  },
  {
   "cell_type": "markdown",
   "id": "18f95aa8",
   "metadata": {},
   "source": [
    "### Ví dụ: Hàm in"
   ]
  },
  {
   "cell_type": "code",
   "execution_count": 3,
   "id": "0753ca43",
   "metadata": {},
   "outputs": [],
   "source": [
    "#  viết hàm để giới thiệu về khóa học\n",
    "def print_course_infor():\n",
    "    print(\"******************************\")\n",
    "    print(\"course: Python Fundamental   *\")\n",
    "    print(\"Lesson: 13\")\n",
    "    print(\"Orgranazation: CodeGym Onine *\")\n",
    "    print(\"******************************\")"
   ]
  },
  {
   "cell_type": "code",
   "execution_count": 4,
   "id": "01ad1658",
   "metadata": {},
   "outputs": [
    {
     "name": "stdout",
     "output_type": "stream",
     "text": [
      "******************************\n",
      "course: Python Fundamental   *\n",
      "Lesson: 13\n",
      "Orgranazation: CodeGym Onine *\n",
      "******************************\n"
     ]
    }
   ],
   "source": [
    "print_course_infor()"
   ]
  },
  {
   "cell_type": "markdown",
   "id": "29c55e2b",
   "metadata": {},
   "source": [
    "### Ví dụ: Hàm tính giá trị tuyệt đối"
   ]
  },
  {
   "cell_type": "code",
   "execution_count": 10,
   "id": "e492700a",
   "metadata": {},
   "outputs": [],
   "source": [
    "# viết hàm in ra giá trị tuyệt đối của biến được input từ người dùng\n",
    "def calc_absolute_value():\n",
    "    number = int(input(\"please input number: \"))\n",
    "    if number >= 0 :\n",
    "        print(f\"absolute value is {number}\")\n",
    "    else:\n",
    "              print(f\"absolute value is {-number}\")"
   ]
  },
  {
   "cell_type": "code",
   "execution_count": 11,
   "id": "dd603ad1",
   "metadata": {},
   "outputs": [
    {
     "name": "stdout",
     "output_type": "stream",
     "text": [
      "please input number: -6\n",
      "absolute value is 6\n"
     ]
    }
   ],
   "source": [
    "calc_absolute_value()"
   ]
  },
  {
   "cell_type": "markdown",
   "id": "07fa617d",
   "metadata": {},
   "source": [
    "### Ví dụ: Hàm vẽ hình tròn"
   ]
  },
  {
   "cell_type": "code",
   "execution_count": null,
   "id": "2a2dec85",
   "metadata": {},
   "outputs": [],
   "source": []
  },
  {
   "cell_type": "markdown",
   "id": "c4575e29",
   "metadata": {},
   "source": [
    "## Xây dựng và sử dụng hàm trong python"
   ]
  },
  {
   "cell_type": "markdown",
   "id": "00ac6720",
   "metadata": {},
   "source": [
    "### Hàm say_hello"
   ]
  },
  {
   "cell_type": "code",
   "execution_count": 12,
   "id": "47575691",
   "metadata": {},
   "outputs": [],
   "source": [
    "# viết hàm để in ra nội dung \"hello, my name is...I'm studying Yython Fundamental\n",
    "def study_python():\n",
    "    print(\"Hello, my name is Van, I'm studying Python Fundamental\")"
   ]
  },
  {
   "cell_type": "code",
   "execution_count": 13,
   "id": "1aedf1bb",
   "metadata": {},
   "outputs": [
    {
     "name": "stdout",
     "output_type": "stream",
     "text": [
      "Hello, my name is Van, I'm studying Python Fundamental\n"
     ]
    }
   ],
   "source": [
    "study_python()"
   ]
  },
  {
   "cell_type": "markdown",
   "id": "f9b6f894",
   "metadata": {},
   "source": [
    "### Hàm vẽ cây thông"
   ]
  },
  {
   "cell_type": "code",
   "execution_count": null,
   "id": "0994ceed",
   "metadata": {},
   "outputs": [],
   "source": []
  },
  {
   "attachments": {
    "image.png": {
     "image/png": "[encoded data removed]"
    }
   },
   "cell_type": "markdown",
   "id": "08fa2b6b",
   "metadata": {},
   "source": [
    "### Thực hành: Viết hàm vẽ ra hình ảnh như dưới đây:\n",
    "![image.png](attachment:image.png)"
   ]
  },
  {
   "cell_type": "code",
   "execution_count": null,
   "id": "b3161e2c",
   "metadata": {},
   "outputs": [],
   "source": []
  },
  {
   "cell_type": "markdown",
   "id": "77fa1ef1",
   "metadata": {},
   "source": [
    "## doc_string cho hàm"
   ]
  },
  {
   "cell_type": "code",
   "execution_count": 16,
   "id": "8dcf448b",
   "metadata": {},
   "outputs": [
    {
     "name": "stdout",
     "output_type": "stream",
     "text": [
      "please input chieu dai: 2\n",
      "please input chieu rong: 3\n",
      "10.0\n",
      "\n",
      "    this function is used to calculate perimater if rectangle.\n",
      "    input: length, width\n",
      "    outputL perimeter (float)\n",
      "    \n"
     ]
    }
   ],
   "source": [
    "# Hàm tính chu vi hình chữ nhật\n",
    "def tinh_chu_vi():\n",
    "    '''\n",
    "    this function is used to calculate perimater if rectangle.\n",
    "    input: length, width\n",
    "    outputL perimeter (float)\n",
    "    '''\n",
    "    a = float(input(\"please input chieu dai: \"))\n",
    "    b = float(input(\"please input chieu rong: \"))\n",
    "    print((a + b) * 2)\n",
    "tinh_chu_vi()    \n",
    "print(tinh_chu_vi.__doc__)"
   ]
  },
  {
   "cell_type": "code",
   "execution_count": 21,
   "id": "a7dc57e9",
   "metadata": {},
   "outputs": [
    {
     "name": "stdout",
     "output_type": "stream",
     "text": [
      "please input Math score: 5\n",
      "please input literature  score: 9\n",
      "please input English score: 6\n",
      "chưa giỏi, điểm trung bình là 6.666666666666667\n",
      "\n",
      "    this function is used to calculate the average score of the subject : Math, literature and English\n",
      "    input: math, literature, english\n",
      "    output: Student rating\n",
      "    \n",
      "    \n"
     ]
    }
   ],
   "source": [
    "# Hàm xếp loại học sinh\n",
    "# tính điểm trung bình 3 môn học toán, văn, anh\n",
    "# cho biết học luc là gioi/kha/trung bình\n",
    "def calc_average():\n",
    "    '''\n",
    "    this function is used to calculate the average score of the subject : Math, literature and English\n",
    "    input: math, literature, english\n",
    "    output: Student rating\n",
    "    \n",
    "    '''\n",
    "    math = float(input(\"please input Math score: \"))\n",
    "    literature  = float(input(\"please input literature  score: \"))\n",
    "    English = float(input(\"please input English score: \"))\n",
    "    average = (math + literature + English) / 3\n",
    "    if average >= 6.5:\n",
    "        print(f\"giỏi, điểm trung bình là {average}\")\n",
    "    elif:\n",
    "        print(f\"khá, điểm trung bình là {average}\")\n",
    "\n",
    "calc_average()\n",
    "print(calc_average.__doc__)"
   ]
  },
  {
   "cell_type": "markdown",
   "id": "0c5f3f35",
   "metadata": {},
   "source": [
    "## Phạm vi biến"
   ]
  },
  {
   "cell_type": "code",
   "execution_count": 2,
   "id": "b332222c",
   "metadata": {},
   "outputs": [
    {
     "name": "stdout",
     "output_type": "stream",
     "text": [
      "15\n"
     ]
    },
    {
     "ename": "NameError",
     "evalue": "name 'n' is not defined",
     "output_type": "error",
     "traceback": [
      "\u001b[1;31m---------------------------------------------------------------------------\u001b[0m",
      "\u001b[1;31mNameError\u001b[0m                                 Traceback (most recent call last)",
      "Cell \u001b[1;32mIn[2], line 12\u001b[0m\n\u001b[0;32m      8\u001b[0m     \u001b[38;5;28mprint\u001b[39m(total)\n\u001b[0;32m     10\u001b[0m calc_sum()\n\u001b[1;32m---> 12\u001b[0m \u001b[38;5;28mprint\u001b[39m(\u001b[43mn\u001b[49m)    \n",
      "\u001b[1;31mNameError\u001b[0m: name 'n' is not defined"
     ]
    }
   ],
   "source": [
    "# Hàm tính tổng các số từ 1 đến 10\n",
    "\n",
    "def calc_sum():\n",
    "    total = 0\n",
    "    n = 5\n",
    "    for i in range(n + 1):\n",
    "        total += i\n",
    "    print(total)\n",
    "    \n",
    "calc_sum()\n",
    "\n",
    "print(n)    "
   ]
  },
  {
   "cell_type": "markdown",
   "id": "7407e8fe",
   "metadata": {},
   "source": [
    "## Đối số của hàm"
   ]
  },
  {
   "cell_type": "code",
   "execution_count": 3,
   "id": "f5787950",
   "metadata": {},
   "outputs": [
    {
     "name": "stdout",
     "output_type": "stream",
     "text": [
      "cube volume is 125\n",
      "cube volume is 1000\n"
     ]
    }
   ],
   "source": [
    "# Hàm tính thể tích hình lập phương\n",
    "def calc_cube_volume(side): # side là biến local bên trong hàm, side được gán trong () khi gọi hàm\n",
    "    print(f\"cube volume is {side ** 3}\")\n",
    "\n",
    "calc_cube_volume(5)\n",
    "calc_cube_volume(10)\n",
    "    \n",
    "    "
   ]
  },
  {
   "cell_type": "code",
   "execution_count": 5,
   "id": "d11afb27",
   "metadata": {
    "scrolled": true
   },
   "outputs": [
    {
     "ename": "NameError",
     "evalue": "name 'Lan' is not defined",
     "output_type": "error",
     "traceback": [
      "\u001b[1;31m---------------------------------------------------------------------------\u001b[0m",
      "\u001b[1;31mNameError\u001b[0m                                 Traceback (most recent call last)",
      "Cell \u001b[1;32mIn[5], line 14\u001b[0m\n\u001b[0;32m     11\u001b[0m     \u001b[38;5;28;01melse\u001b[39;00m:\n\u001b[0;32m     12\u001b[0m         \u001b[38;5;28mprint\u001b[39m(\u001b[38;5;124mf\u001b[39m\u001b[38;5;124m\"\u001b[39m\u001b[38;5;124mtrung bình, điểm trung bình là \u001b[39m\u001b[38;5;132;01m{\u001b[39;00maverage\u001b[38;5;132;01m}\u001b[39;00m\u001b[38;5;124m\"\u001b[39m)\n\u001b[1;32m---> 14\u001b[0m calc_average(\u001b[43mLan\u001b[49m)\n\u001b[0;32m     15\u001b[0m calc_average(Hoa)\n\u001b[0;32m     16\u001b[0m calc_average(Ngoc)\n",
      "\u001b[1;31mNameError\u001b[0m: name 'Lan' is not defined"
     ]
    }
   ],
   "source": [
    "def calc_average(studen_name):\n",
    "    Studen_name = str(\"please input name\")\n",
    "    math = float(input(\"please input Math score: \"))\n",
    "    literature  = float(input(\"please input literature  score: \"))\n",
    "    English = float(input(\"please input English score: \"))\n",
    "    average = (math + literature + English) / 3\n",
    "    if average >= 6.5:\n",
    "        print(f\"giỏi, điểm trung bình là {average}\")\n",
    "    elif 6.5 > average and average >= 5:\n",
    "        print(f\"khá, điểm trung bình là {average}\")\n",
    "    else:\n",
    "        print(f\"trung bình, điểm trung bình là {average}\")\n",
    "\n",
    "calc_average(Lan)\n",
    "calc_average(Hoa)\n",
    "calc_average(Ngoc)"
   ]
  },
  {
   "cell_type": "code",
   "execution_count": 6,
   "id": "736218f5",
   "metadata": {},
   "outputs": [],
   "source": [
    "def classify_student(math_score, literature_score, english_score):\n",
    "    avg_score = (math_score + literature_score + english_score)\n",
    "    if avg_score >= 6.5:\n",
    "        print(\"grading: exellent\")\n",
    "    elif avg_score >= 5:\n",
    "        print (\"grading: good\")\n",
    "    else:\n",
    "        print(\"grading: average\")\n",
    "        "
   ]
  },
  {
   "cell_type": "code",
   "execution_count": 7,
   "id": "bc10bcf7",
   "metadata": {},
   "outputs": [
    {
     "name": "stdout",
     "output_type": "stream",
     "text": [
      "grading: exellent\n"
     ]
    }
   ],
   "source": [
    "classify_student(9,8,7)"
   ]
  },
  {
   "cell_type": "code",
   "execution_count": 7,
   "id": "8d1bc23b",
   "metadata": {},
   "outputs": [],
   "source": [
    "# Hàm xếp loại học sinh"
   ]
  },
  {
   "cell_type": "markdown",
   "id": "1eee19a7",
   "metadata": {},
   "source": [
    "### Thực hành: Viết hàm nhận vào một số nguyên và kiểm tra xem số đó có phải là số nguyên tố hay không.\n"
   ]
  },
  {
   "cell_type": "code",
   "execution_count": 5,
   "id": "d3c5d3a9",
   "metadata": {},
   "outputs": [
    {
     "name": "stdout",
     "output_type": "stream",
     "text": [
      "47 is a prime number\n"
     ]
    }
   ],
   "source": [
    "def verify_prime_number(number): # kĩ thuật đặt giả thiết\n",
    "    # assumming\n",
    "    is_prime = True # giả định n là số nguyên tố\n",
    "    for i in range(2, number):\n",
    "        if number % i == 0:\n",
    "            print(f\"{number} is not a prime number\")\n",
    "            is_prime = False\n",
    "            break\n",
    "     \n",
    "    if is_prime:\n",
    "        print(f\"{number} is a prime number\")\n",
    "            \n",
    "verify_prime_number(47)"
   ]
  },
  {
   "cell_type": "code",
   "execution_count": 4,
   "id": "5aaa9e8e",
   "metadata": {},
   "outputs": [
    {
     "name": "stdout",
     "output_type": "stream",
     "text": [
      "47 là số nguyên tố\n"
     ]
    }
   ],
   "source": [
    "def check_prime_number(n):\n",
    "    if n <= 1:\n",
    "        print(f\"{n} không phải là số nguyên tố\")\n",
    "    else:\n",
    "        i = 2\n",
    "        while i <= n/2:\n",
    "            if n % i == 0:\n",
    "                print(f\"{n} không phải là số nguyên tố\")\n",
    "                break\n",
    "            i += 1    \n",
    "        else:\n",
    "            print(f\"{n} là số nguyên tố\")  \n",
    "            \n",
    "check_prime_number(47)"
   ]
  },
  {
   "cell_type": "markdown",
   "id": "dea3b237",
   "metadata": {},
   "source": [
    "## Đối số có giá trị mặc định"
   ]
  },
  {
   "cell_type": "code",
   "execution_count": 9,
   "id": "8e871a22",
   "metadata": {},
   "outputs": [
    {
     "name": "stdout",
     "output_type": "stream",
     "text": [
      "hello world hello world\n"
     ]
    }
   ],
   "source": [
    "print(\"hello world\", \"hello world\")"
   ]
  },
  {
   "cell_type": "code",
   "execution_count": 15,
   "id": "bb44715a",
   "metadata": {},
   "outputs": [
    {
     "name": "stdout",
     "output_type": "stream",
     "text": [
      "my name is long\n",
      "my course is python fundamental\n",
      "my name is van\n",
      "my course is kakaka\n"
     ]
    }
   ],
   "source": [
    "def intro(name, course=\"python fundamental\"):\n",
    "    print(f\"my name is {name}\")\n",
    "    print(f\"my course is {course}\")\n",
    "    \n",
    "intro(\"long\")# tham số mặc định có thể để trống lúc gọi hàm, hàm tự lấy default\n",
    "intro(\"van\", \"kakaka\")"
   ]
  },
  {
   "cell_type": "markdown",
   "id": "4cb69485",
   "metadata": {},
   "source": [
    "## Giá trị trả về của hàm"
   ]
  },
  {
   "cell_type": "markdown",
   "id": "e4fac396",
   "metadata": {},
   "source": [
    "\n",
    "# return\n",
    "\n",
    "Cú pháp:\n",
    "\n",
    "`return <giá trị trả về>`\n",
    "\n",
    "##### Lưu ý: Sau khi thực hiện lệnh return, chương trình sẽ thoát khỏi hàm ngay lập tức (những lệnh sau đó không được thực hiện)\n",
    "\n",
    "Ví dụ:\n",
    "\n",
    "Hãy viết 1 hàm trả về giá trị trung bình của 2 số bất kỳ"
   ]
  },
  {
   "cell_type": "code",
   "execution_count": 2,
   "id": "028b09bc",
   "metadata": {},
   "outputs": [
    {
     "name": "stdout",
     "output_type": "stream",
     "text": [
      "4.5\n"
     ]
    }
   ],
   "source": [
    "def calc_average(num1, num2):\n",
    "    return (num1 + num2) / 2 # trả giá trị tính toán ra bên ngoài\n",
    "    \n",
    "result = calc_average(4, 5)\n",
    "\n",
    "print(result)\n"
   ]
  },
  {
   "cell_type": "code",
   "execution_count": 26,
   "id": "24592238",
   "metadata": {},
   "outputs": [
    {
     "name": "stdout",
     "output_type": "stream",
     "text": [
      "please input a string: truongthevan\n",
      "chieu dai chuoi là: 12\n"
     ]
    }
   ],
   "source": [
    "# Hàm tính chiều dài của chuỗi\n",
    "a = str(input(\"please input a string: \"))\n",
    "def verify_str_len(a):\n",
    "    \n",
    "    return len(a)\n",
    "result = verify_str_len(a)\n",
    "print(f\"chieu dai chuoi là: {result}\")"
   ]
  },
  {
   "cell_type": "code",
   "execution_count": 32,
   "id": "51efb136",
   "metadata": {},
   "outputs": [
    {
     "name": "stdout",
     "output_type": "stream",
     "text": [
      "8\n"
     ]
    }
   ],
   "source": [
    "# thay giai\n",
    "def calc_length(string):\n",
    "    return len(string)\n",
    "print(calc_length(\"lalalala\"))"
   ]
  },
  {
   "cell_type": "code",
   "execution_count": 29,
   "id": "56d947d8",
   "metadata": {},
   "outputs": [
    {
     "name": "stdout",
     "output_type": "stream",
     "text": [
      "please input n: 6\n",
      "36\n"
     ]
    }
   ],
   "source": [
    "# Hàm tính lũy thừa\n",
    "# Viết hàm nhận vào một số nguyên và trả về lũy thừa của số nguyên đó\n",
    "n = int(input(\"please input n: \"))\n",
    "def find_exponential(n):\n",
    "    return n * n\n",
    "result = find_exponential(n)\n",
    "print(result)"
   ]
  },
  {
   "cell_type": "code",
   "execution_count": 34,
   "id": "79c0bfc8",
   "metadata": {},
   "outputs": [
    {
     "name": "stdout",
     "output_type": "stream",
     "text": [
      "120\n"
     ]
    }
   ],
   "source": [
    "def calc_factorial(number):\n",
    "    factorial = 1\n",
    "    for i in range (2, number + 1):\n",
    "        factorial *= i\n",
    "    return factorial\n",
    "print(calc_factorial(5))"
   ]
  },
  {
   "cell_type": "code",
   "execution_count": null,
   "id": "0178d43e",
   "metadata": {},
   "outputs": [],
   "source": [
    "# Hàm kiểm tra năm nhuận\n",
    "# Viết hàm nhận vào một số năm và trả về True nếu năm đó là năm nhuận, ngược lại trả về False\n",
    "def iss_leap_year(year):\n",
    "    if (year % 400 == 0) or ((year % 4 ==0) and (year %100 != 0)):\n",
    "        return True\n",
    "    else:\n",
    "        return False\n",
    "    "
   ]
  }
 ],
 "metadata": {
  "kernelspec": {
   "display_name": "Python 3 (ipykernel)",
   "language": "python",
   "name": "python3"
  },
  "language_info": {
   "codemirror_mode": {
    "name": "ipython",
    "version": 3
   },
   "file_extension": ".py",
   "mimetype": "text/x-python",
   "name": "python",
   "nbconvert_exporter": "python",
   "pygments_lexer": "ipython3",
   "version": "3.11.3"
  }
 },
 "nbformat": 4,
 "nbformat_minor": 5
}
