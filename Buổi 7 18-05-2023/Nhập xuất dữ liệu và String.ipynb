{
 "cells": [
  {
   "cell_type": "markdown",
   "id": "7ac14915",
   "metadata": {},
   "source": [
    "# Nhập xuất dữ liệu và String\n",
    "## Cách nhập xuất dữ liệu"
   ]
  },
  {
   "cell_type": "markdown",
   "id": "0f202ae8",
   "metadata": {},
   "source": [
    "### Xuất dữ liệu ra màn hình\n",
    "Để in các nội dung mà chúng ta mong muốn ra màn hình, ta sử dụng lệnh print()"
   ]
  },
  {
   "cell_type": "code",
   "execution_count": 2,
   "id": "a6d3f260",
   "metadata": {},
   "outputs": [
    {
     "name": "stdout",
     "output_type": "stream",
     "text": [
      "python is very easy\n",
      "python is very funny\n"
     ]
    }
   ],
   "source": [
    "# Ví dụ: In ra nội dung \"python is very easy\"\n",
    "print(\"python is very easy\")\n",
    "print(\"python is very funny\")"
   ]
  },
  {
   "cell_type": "markdown",
   "id": "7733925a",
   "metadata": {},
   "source": [
    "### Các cách custom với lệnh print"
   ]
  },
  {
   "cell_type": "markdown",
   "id": "292ab570",
   "metadata": {},
   "source": [
    "Để in một nội dung kèm theo giá trị của biến, ta có các cách sau:"
   ]
  },
  {
   "cell_type": "code",
   "execution_count": 2,
   "id": "20ff912c",
   "metadata": {},
   "outputs": [],
   "source": [
    "food_1 = \"cookies\"\n",
    "food_2 = \"sandwich\"\n",
    "# i love chocolate and i hate sandwich\n",
    "# i love \"--food_1--\" and i hate \"--food_2--\""
   ]
  },
  {
   "cell_type": "code",
   "execution_count": 3,
   "id": "6407a448",
   "metadata": {
    "scrolled": true
   },
   "outputs": [
    {
     "name": "stdout",
     "output_type": "stream",
     "text": [
      "i love chocolate and i hate sandwich\n"
     ]
    }
   ],
   "source": [
    "# In trực tiếp\n",
    "print(\"i love chocolate and i hate sandwich\")"
   ]
  },
  {
   "cell_type": "code",
   "execution_count": 3,
   "id": "27d098b8",
   "metadata": {},
   "outputs": [
    {
     "name": "stdout",
     "output_type": "stream",
     "text": [
      "i lovecookiesand i hatesandwich\n",
      "i love cookies and i hate sandwich\n"
     ]
    }
   ],
   "source": [
    "# In bằng cách ghép các nội dung với nhau\n",
    "print(\"i love\", food_1, \"and i hate\", food_2, sep=\"\")\n",
    "print(\"i love \" + food_1 + \" and i hate \" + food_2)"
   ]
  },
  {
   "cell_type": "code",
   "execution_count": 18,
   "id": "717666f2",
   "metadata": {},
   "outputs": [
    {
     "name": "stdout",
     "output_type": "stream",
     "text": [
      "i love cookies and i hate sandwich\n"
     ]
    }
   ],
   "source": [
    "# Sử dụng String Format\n",
    "print(f\"i love {food_1} and i hate {food_2}\")"
   ]
  },
  {
   "cell_type": "code",
   "execution_count": 3,
   "id": "c7276e05",
   "metadata": {},
   "outputs": [
    {
     "name": "stdout",
     "output_type": "stream",
     "text": [
      "i love cookies and i hate sandwich"
     ]
    }
   ],
   "source": [
    "# Sử dụng nhiều lệnh print\n",
    "print(\"i love \", end=\"\")\n",
    "print(food_1, end=\"\")\n",
    "print(\" and i hate \", end=\"\")\n",
    "print(food_2, end=\"\")"
   ]
  },
  {
   "cell_type": "markdown",
   "id": "e10788fb",
   "metadata": {},
   "source": [
    "### Nhập dữ liệu\n",
    "Để nhập dữ liệu vào chương trình python, chúng ta sử dụng hàm input()"
   ]
  },
  {
   "cell_type": "code",
   "execution_count": 1,
   "id": "b8b8afd3",
   "metadata": {},
   "outputs": [
    {
     "name": "stdout",
     "output_type": "stream",
     "text": [
      "Please input your name: truong the van\n",
      "truong the van\n"
     ]
    }
   ],
   "source": [
    "name = input(\"Please input your name: \")\n",
    "print(name)"
   ]
  },
  {
   "cell_type": "code",
   "execution_count": 2,
   "id": "65e4beef",
   "metadata": {},
   "outputs": [
    {
     "name": "stdout",
     "output_type": "stream",
     "text": [
      "Please input a number: 123\n"
     ]
    }
   ],
   "source": [
    "# type casting\n",
    "number = int(input(\"Please input a number: \"))"
   ]
  },
  {
   "cell_type": "markdown",
   "id": "337f9c15",
   "metadata": {},
   "source": [
    "#### Thực hành: Viết chương trình nhập vào chiều dài và chiều rộng của hình chữ nhật, sau đó in ra chu vi và diện tích của hình chữ nhật đó"
   ]
  },
  {
   "cell_type": "code",
   "execution_count": 3,
   "id": "add68103",
   "metadata": {},
   "outputs": [
    {
     "name": "stdout",
     "output_type": "stream",
     "text": [
      "nhap chieu dai hinh chu nhat: 100\n",
      "nhap chieu rong hinh chu nhat: 50\n"
     ]
    }
   ],
   "source": [
    "# Nhập các kích thước của hình chữ nhật\n",
    "chieu_dai = int(input(\"nhap chieu dai hinh chu nhat: \"))\n",
    "chieu_rong = int(input(\"nhap chieu rong hinh chu nhat: \"))"
   ]
  },
  {
   "cell_type": "code",
   "execution_count": 4,
   "id": "7a1cd73e",
   "metadata": {},
   "outputs": [],
   "source": [
    "# Tính toán chu vi, diện tích\n",
    "chu_vi = (chieu_dai + chieu_rong)*2\n",
    "dien_tich = chieu_dai*chieu_rong"
   ]
  },
  {
   "cell_type": "code",
   "execution_count": 7,
   "id": "d0adf735",
   "metadata": {},
   "outputs": [
    {
     "name": "stdout",
     "output_type": "stream",
     "text": [
      " chu vi là  300 dien tich là 5000\n",
      "chu vi là 300 dien tich là 5000\n",
      " chu vi la 300 dien tich là 5000"
     ]
    }
   ],
   "source": [
    "# In kết quả ra màn hình bằng 3 cách\n",
    "print(\" chu vi là \", chu_vi, \"dien tich là\", dien_tich)\n",
    "print(f\"chu vi là {chu_vi} dien tich là {dien_tich}\")\n",
    "print(\" chu vi la \", end=\"\")\n",
    "print(chu_vi, end=\"\")\n",
    "print(\" dien tich là \", end=\"\")\n",
    "print(dien_tich, end=\"\")"
   ]
  },
  {
   "cell_type": "markdown",
   "id": "fb54cb77",
   "metadata": {},
   "source": [
    "#### Thực hành: Viết chương trình nhập vào số đo cạnh và mã màu của tam giác đều, sau đó sử dụng turtle để vẽ ra hình tam giác có số đo và màu tương ứng"
   ]
  },
  {
   "cell_type": "code",
   "execution_count": null,
   "id": "7583b308",
   "metadata": {},
   "outputs": [],
   "source": []
  },
  {
   "cell_type": "markdown",
   "id": "fa7cb208",
   "metadata": {},
   "source": [
    "## Cú pháp import"
   ]
  },
  {
   "cell_type": "markdown",
   "id": "ab2a2ea5",
   "metadata": {},
   "source": [
    "Để sử dụng một module từ bên ngoài, chúng ta sẽ sử dụng từ khóa import. Sau đây là ví dụ về một số cách import phổ biến."
   ]
  },
  {
   "cell_type": "markdown",
   "id": "bd6de377",
   "metadata": {},
   "source": [
    "### Random một giá trị ngẫu nhiên"
   ]
  },
  {
   "cell_type": "code",
   "execution_count": null,
   "id": "ce5547f5",
   "metadata": {},
   "outputs": [],
   "source": []
  },
  {
   "cell_type": "markdown",
   "id": "dfa93dc0",
   "metadata": {},
   "source": [
    "### Thực hiện các phép toán số học"
   ]
  },
  {
   "cell_type": "code",
   "execution_count": 8,
   "id": "4f06f722",
   "metadata": {},
   "outputs": [],
   "source": [
    "# import toàn bộ module"
   ]
  },
  {
   "cell_type": "code",
   "execution_count": null,
   "id": "6b9e471b",
   "metadata": {},
   "outputs": [],
   "source": [
    "# import một phần trong module"
   ]
  },
  {
   "cell_type": "markdown",
   "id": "391969e7",
   "metadata": {},
   "source": [
    "## Xử lý String trong python"
   ]
  },
  {
   "cell_type": "markdown",
   "id": "ab461669",
   "metadata": {},
   "source": [
    "### String là gì?\n",
    "String là một chuỗi gồm các ký tự Unicode"
   ]
  },
  {
   "cell_type": "markdown",
   "id": "94a27b90",
   "metadata": {},
   "source": [
    "### Khởi tạo một string"
   ]
  },
  {
   "cell_type": "code",
   "execution_count": null,
   "id": "b14f4fcc",
   "metadata": {},
   "outputs": [],
   "source": [
    "# one-line string"
   ]
  },
  {
   "cell_type": "code",
   "execution_count": null,
   "id": "9cc506a7",
   "metadata": {},
   "outputs": [],
   "source": [
    "# multi-line string\n",
    "lesson_content = '''ket thuc bai hoc này, ban co the:\n",
    "- Biet cach input du lieu\n",
    "-Biet cach print du dieu\n",
    "- Biet cach xu ly string\n",
    "'''"
   ]
  },
  {
   "cell_type": "markdown",
   "id": "8f4270fd",
   "metadata": {},
   "source": [
    "### Các thao tác phổ biến với string"
   ]
  },
  {
   "cell_type": "code",
   "execution_count": 8,
   "id": "c825f890",
   "metadata": {},
   "outputs": [
    {
     "name": "stdout",
     "output_type": "stream",
     "text": [
      "18\n"
     ]
    }
   ],
   "source": [
    "# Kiểm tra độ dài string\n",
    "course_nam = \"python fundamental\"\n",
    "print(len(course_nam))"
   ]
  },
  {
   "cell_type": "code",
   "execution_count": 11,
   "id": "6de96621",
   "metadata": {},
   "outputs": [
    {
     "name": "stdout",
     "output_type": "stream",
     "text": [
      "o\n",
      "o\n"
     ]
    }
   ],
   "source": [
    "# Truy xuất ký tự bằng cơ chế indexing và reverse indexing\n",
    "working_calendar = \"oxoooxx\"\n",
    "\n",
    "# indexing, tu phai qua đếm từ 0,1,2...\n",
    "print(working_calendar[3])\n",
    "\n",
    "# revert indexing, từ trái qua đếm từ -1.-2...\n",
    "print(working_calendar[-5])"
   ]
  },
  {
   "cell_type": "markdown",
   "id": "a4f949d9",
   "metadata": {},
   "source": [
    "#### Thực hành: Viết chương trình nhập vào một chuỗi bất kỳ, sau đó in ra ký tự đầu tiên và ký tự cuối cùng của chuỗi đó."
   ]
  },
  {
   "cell_type": "code",
   "execution_count": 12,
   "id": "14833f18",
   "metadata": {
    "scrolled": true
   },
   "outputs": [
    {
     "name": "stdout",
     "output_type": "stream",
     "text": [
      "please input ho và ten: truong the van\n"
     ]
    }
   ],
   "source": [
    "ten = input(\"please input ho và ten: \")"
   ]
  },
  {
   "cell_type": "code",
   "execution_count": 14,
   "id": "ff680afc",
   "metadata": {},
   "outputs": [
    {
     "name": "stdout",
     "output_type": "stream",
     "text": [
      "t\n",
      "n\n"
     ]
    }
   ],
   "source": [
    "print(ten[0])\n",
    "print(ten[-1])"
   ]
  },
  {
   "cell_type": "code",
   "execution_count": 19,
   "id": "9aad2f16",
   "metadata": {},
   "outputs": [
    {
     "name": "stdout",
     "output_type": "stream",
     "text": [
      "long\n",
      "pyhton\n",
      "ln\n",
      "string\n",
      "ln,yt\n",
      "lgyo3-si\n",
      "gnirts,7-5-3,nothyp,gnol\n"
     ]
    }
   ],
   "source": [
    "# Cắt string theo index\n",
    "# cú pháp <tên biến>[start:end:step]\n",
    "# start có giá trị là 0, end = len(), step = 1\n",
    "\n",
    "content = \"long,pyhton,3-5-7,string\"\n",
    "print(content[0:4])\n",
    "print(content[5:11])\n",
    "# nhay buoc trong khoang 0 đến 4, bắt đầu là , nhảy lên  đơn vị\n",
    "print(content[0:4:2]) \n",
    "print(content[18:])\n",
    "print(content[:10:2])\n",
    "print(content[::3])\n",
    "print(content[::-1])  # đảo ngược chuỗi"
   ]
  },
  {
   "cell_type": "code",
   "execution_count": 21,
   "id": "6ec63f90",
   "metadata": {},
   "outputs": [
    {
     "name": "stdout",
     "output_type": "stream",
     "text": [
      "helloworld\n",
      "hellohellohello\n"
     ]
    }
   ],
   "source": [
    "# Ghép chuỗi và lặp chuỗi\n",
    "a = \"hello\"\n",
    "b = \"world\"\n",
    "print(a+b)\n",
    "print(a*3)"
   ]
  },
  {
   "cell_type": "markdown",
   "id": "84c2dcb9",
   "metadata": {},
   "source": [
    "#### Thực hành: Xử lý và in ra các thông tin tương ứng trong chuỗi"
   ]
  },
  {
   "cell_type": "code",
   "execution_count": null,
   "id": "cd71f135",
   "metadata": {},
   "outputs": [],
   "source": []
  },
  {
   "cell_type": "markdown",
   "id": "7cbd965f",
   "metadata": {},
   "source": [
    "### Các hàm thông dụng khi xử lý string"
   ]
  },
  {
   "cell_type": "code",
   "execution_count": 2,
   "id": "eb5932a1",
   "metadata": {},
   "outputs": [
    {
     "name": "stdout",
     "output_type": "stream",
     "text": [
      "18\n"
     ]
    }
   ],
   "source": [
    "# len\n",
    "content = \"python fundamental\"\n",
    "print(len(content))"
   ]
  },
  {
   "cell_type": "code",
   "execution_count": 6,
   "id": "6bef6d33",
   "metadata": {},
   "outputs": [
    {
     "name": "stdout",
     "output_type": "stream",
     "text": [
      "3\n"
     ]
    }
   ],
   "source": [
    "# count\n",
    "van = \"python fundamental\"\n",
    "print(van.count('n'))"
   ]
  },
  {
   "cell_type": "code",
   "execution_count": 9,
   "id": "1582bbd8",
   "metadata": {},
   "outputs": [
    {
     "name": "stdout",
     "output_type": "stream",
     "text": [
      "MÁY NƯỚC NÓNG\n",
      "máy nước nóng\n",
      "Máy nước nóng\n"
     ]
    }
   ],
   "source": [
    "# upper, lower , in chữ Hoa, chữ thường\n",
    "# Máy nước nóng\n",
    "content = \"Máy nước nóng\"\n",
    "print(content.upper())\n",
    "print(content.lower())\n",
    "print(content.capitalize()) #in chữ đầu dòng là chữ Hoa\n"
   ]
  },
  {
   "cell_type": "code",
   "execution_count": 23,
   "id": "0d08f708",
   "metadata": {
    "scrolled": true
   },
   "outputs": [
    {
     "name": "stdout",
     "output_type": "stream",
     "text": [
      "máy nước nóng   ,,,,\n",
      "   máy nước nóng   \n",
      "máy nước nóng   ,,,,\n"
     ]
    }
   ],
   "source": [
    "# lstrip, rstrip, strip , dư thừa khoảng cách, \n",
    "# nếu nhiều loại dấu cách thì dùng nhiều lần cắt\n",
    "content = \"   máy nước nóng   ,,,,\"\n",
    "print(content.lstrip())\n",
    "print(content.rstrip(\",\"))\n",
    "print(content.strip())"
   ]
  },
  {
   "cell_type": "code",
   "execution_count": 24,
   "id": "62180d52",
   "metadata": {},
   "outputs": [
    {
     "name": "stdout",
     "output_type": "stream",
     "text": [
      "['my', 'name', 'is', 'Văn']\n"
     ]
    }
   ],
   "source": [
    "# split, phân tách từng thành phần của string\n",
    "content = \"my name is Văn\"\n",
    "print(content.split())"
   ]
  },
  {
   "cell_type": "markdown",
   "id": "032ba1fc",
   "metadata": {},
   "source": []
  }
 ],
 "metadata": {
  "kernelspec": {
   "display_name": "Python 3 (ipykernel)",
   "language": "python",
   "name": "python3"
  },
  "language_info": {
   "codemirror_mode": {
    "name": "ipython",
    "version": 3
   },
   "file_extension": ".py",
   "mimetype": "text/x-python",
   "name": "python",
   "nbconvert_exporter": "python",
   "pygments_lexer": "ipython3",
   "version": "3.11.3"
  }
 },
 "nbformat": 4,
 "nbformat_minor": 5
}
