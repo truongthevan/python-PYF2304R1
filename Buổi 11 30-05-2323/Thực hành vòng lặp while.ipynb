{
 "cells": [
  {
   "cell_type": "code",
   "execution_count": null,
   "id": "272a3a95",
   "metadata": {},
   "outputs": [],
   "source": [
    "'''\n",
    "Khởi động 1: Viết chương trình in ra tất cả các số chia hết cho cả 5 và 7 trong khoảng từ 1500 đến 2700\n",
    "'''"
   ]
  },
  {
   "cell_type": "code",
   "execution_count": 1,
   "id": "18dbe371",
   "metadata": {},
   "outputs": [
    {
     "name": "stdout",
     "output_type": "stream",
     "text": [
      "1505\n",
      "1540\n",
      "1575\n",
      "1610\n",
      "1645\n",
      "1680\n",
      "1715\n",
      "1750\n",
      "1785\n",
      "1820\n",
      "1855\n",
      "1890\n",
      "1925\n",
      "1960\n",
      "1995\n",
      "2030\n",
      "2065\n",
      "2100\n",
      "2135\n",
      "2170\n",
      "2205\n",
      "2240\n",
      "2275\n",
      "2310\n",
      "2345\n",
      "2380\n",
      "2415\n",
      "2450\n",
      "2485\n",
      "2520\n",
      "2555\n",
      "2590\n",
      "2625\n",
      "2660\n",
      "2695\n"
     ]
    }
   ],
   "source": [
    "i = 1500\n",
    "while i <= 2700:\n",
    "    if i % 5 == 0 and i % 7 == 0:\n",
    "        print(i)\n",
    "    i += 1\n",
    "    "
   ]
  },
  {
   "cell_type": "code",
   "execution_count": null,
   "id": "87f74c6c",
   "metadata": {},
   "outputs": [],
   "source": [
    "'''\n",
    "Bài 1: Viết chương trình nhập vào chiều cao tam giác vuông và in ra tam giác có hình dạng như sau:\n",
    "*****\n",
    "****\n",
    "***\n",
    "** \n",
    "*\n",
    "'''"
   ]
  },
  {
   "cell_type": "code",
   "execution_count": null,
   "id": "9ef1ddf8",
   "metadata": {},
   "outputs": [],
   "source": [
    "# flow chart here"
   ]
  },
  {
   "cell_type": "code",
   "execution_count": 6,
   "id": "4db27197",
   "metadata": {
    "scrolled": true
   },
   "outputs": [
    {
     "name": "stdout",
     "output_type": "stream",
     "text": [
      "please input the height: 5\n",
      "*****\n",
      "****\n",
      "***\n",
      "**\n",
      "*\n"
     ]
    }
   ],
   "source": [
    "height = int(input(\"please input the height: \"))\n",
    "i = height\n",
    "while i > 0 and i <= height:\n",
    "    print(\"*\" * i)\n",
    "    i -= 1\n"
   ]
  },
  {
   "cell_type": "code",
   "execution_count": null,
   "id": "ea4c14a8",
   "metadata": {},
   "outputs": [],
   "source": [
    "'''\n",
    "Bài 2: Viết chương trình nhập vào chiều cao tam giác vuông và in ra tam giác có hình dạng như sau:\n",
    "* * * * * *\n",
    "* * * * *\n",
    "* * * *\n",
    "* * *\n",
    "* *\n",
    "*\n",
    "'''"
   ]
  },
  {
   "cell_type": "code",
   "execution_count": 15,
   "id": "10b83f7e",
   "metadata": {
    "scrolled": true
   },
   "outputs": [
    {
     "name": "stdout",
     "output_type": "stream",
     "text": [
      "please input the height: 6\n",
      "* * * * * * \n",
      "* * * * * \n",
      "* * * * \n",
      "* * * \n",
      "* * \n",
      "* \n"
     ]
    }
   ],
   "source": [
    "height = int(input(\"please input the height: \"))\n",
    "i = height\n",
    "while i > 0 and i <= height:\n",
    "    print(\"* \" * i)\n",
    "    i -= 1"
   ]
  },
  {
   "cell_type": "code",
   "execution_count": 14,
   "id": "9685e0c2",
   "metadata": {
    "scrolled": true
   },
   "outputs": [
    {
     "name": "stdout",
     "output_type": "stream",
     "text": [
      "Nhập chiều cao của tam giác: 6\n",
      "* * * * * * \n",
      "* * * * * \n",
      "* * * * \n",
      "* * * \n",
      "* * \n",
      "* \n"
     ]
    }
   ],
   "source": [
    "def draw_triangle(height): # tham khảo từ chatGPT. chưa nên dùng\n",
    "    for i in range(height, 0, -1):\n",
    "        print('* ' * i)\n",
    "\n",
    "def main():\n",
    "    height = int(input(\"Nhập chiều cao của tam giác: \"))\n",
    "    draw_triangle(height)\n",
    "\n",
    "main()"
   ]
  },
  {
   "cell_type": "code",
   "execution_count": null,
   "id": "bd17e085",
   "metadata": {},
   "outputs": [],
   "source": [
    "'''\n",
    "Bài 3: Viết chương trình nhập vào chiều cao tam giác vuông và in ra tam giác có hình dạng như sau:\n",
    "* - * - *\n",
    "* - * -\n",
    "* - *\n",
    "* -\n",
    "*\n",
    "'''"
   ]
  },
  {
   "cell_type": "code",
   "execution_count": null,
   "id": "105b66bc",
   "metadata": {},
   "outputs": [],
   "source": [
    "'''\n",
    "Bài 4: Viết chương trình nhập vào một số nguyên n và in ra các số từ 1 đến n với các trường hợp ngoại lệ như sau:\n",
    "- Nếu số đó chia hết cho 3 thì in \"py\"\n",
    "- Nếu số đó chia hết cho 7 thì in \"thon\"\n",
    "- Nếu số đó chia hết cho cả 3 và 4 thì in \"python\"\n",
    "\n",
    "Ví dụ: n = 25\n",
    "1\n",
    "2\n",
    "py\n",
    "4\n",
    "5\n",
    "py\n",
    "thon\n",
    "8\n",
    "py\n",
    "10\n",
    "11\n",
    "py\n",
    "13\n",
    "thon\n",
    "py\n",
    "16\n",
    "17\n",
    "py\n",
    "19\n",
    "20\n",
    "python\n",
    "22\n",
    "23\n",
    "py\n",
    "25\n",
    "'''"
   ]
  },
  {
   "cell_type": "code",
   "execution_count": 36,
   "id": "3689744c",
   "metadata": {},
   "outputs": [
    {
     "name": "stdout",
     "output_type": "stream",
     "text": [
      "please input n: 10\n",
      "10 không phải là số nguyên tố\n"
     ]
    }
   ],
   "source": [
    "'''\n",
    "Bài 5: Viết chương trình nhập vào một số và kiểm tra xem số đó có phải là số nguyên tố hay không\n",
    "Note: Số nguyên tố là số chỉ chia hết cho 1 và chính nó\n",
    "'''\n",
    "\n",
    "        "
   ]
  },
  {
   "attachments": {
    "image-2.png": {
     "image/png": "[encoded data removed]"
    }
   },
   "cell_type": "markdown",
   "id": "61428a36",
   "metadata": {},
   "source": [
    "![image-2.png](attachment:image-2.png)"
   ]
  },
  {
   "cell_type": "code",
   "execution_count": 5,
   "id": "b0fe329a",
   "metadata": {},
   "outputs": [
    {
     "name": "stdout",
     "output_type": "stream",
     "text": [
      "please input n: 2\n",
      "2 là số nguyên tố\n"
     ]
    }
   ],
   "source": [
    "n = int(input(\"please input n: \"))\n",
    "if n <= 1:\n",
    "    print(f\"{n} không phải là số nguyên tố\")\n",
    "else:\n",
    "    i = 2\n",
    "    while i <= n/2:\n",
    "        if n % i == 0:\n",
    "            print(f\"{n} không phải là số nguyên tố\")\n",
    "            break\n",
    "        i += 1    \n",
    "    else:\n",
    "        print(f\"{n} là số nguyên tố\")    "
   ]
  },
  {
   "cell_type": "code",
   "execution_count": null,
   "id": "d76fa311",
   "metadata": {},
   "outputs": [],
   "source": [
    "'''\n",
    "Bài 6: Viết chương trình mô phỏng trò chơi kéo búa bao theo luật chơi như sau:\n",
    "Quy ước: 1 - búa, 2 - kéo, 3 - bao\n",
    "Khi trò chơi bắt đầu, yêu cầu người chơi nhập 1 số từ bàn phím đại diện cho kéo, búa, bao\n",
    "Chương trình tự random ra một lựa chọn từ 1 đến 3.\n",
    "Nếu người chơi thua thì tiếp tục chơi cho đến khi thắng thì kết thúc chương trình.\n",
    "Ví dụ:\n",
    "\n",
    "Mời lựa chọn(1 - búa, 2 - kéo, 3 - bao): 1\n",
    "Máy tính chọn: 3\n",
    "Người chơi thua.\n",
    "\n",
    "Mời lựa chọn(1 - búa, 2 - kéo, 3 - bao): 2\n",
    "Máy tính chọn: 1\n",
    "Người chơi thua.\n",
    "\n",
    "Mời lựa chọn(1 - búa, 2 - kéo, 3 - bao): 1\n",
    "Máy tính chọn: 2\n",
    "Người chơi thắng.\n",
    "'''"
   ]
  },
  {
   "cell_type": "code",
   "execution_count": 30,
   "id": "ae0bd4e4",
   "metadata": {},
   "outputs": [
    {
     "name": "stdout",
     "output_type": "stream",
     "text": [
      "please input 1 or 2 or 3: 3\n",
      "2\n"
     ]
    }
   ],
   "source": [
    "tay_ra = int(input(\"please input 1 or 2 or 3: \"))\n",
    "import random\n",
    "number = random.choice([1, 2, 3])\n",
    "while tay_ra != number:\n",
    "    \n",
    "\n"
   ]
  },
  {
   "cell_type": "code",
   "execution_count": 1,
   "id": "3c1c1c73",
   "metadata": {},
   "outputs": [
    {
     "name": "stdout",
     "output_type": "stream",
     "text": [
      "Lựa chọn của bạn:\n",
      "1 - Búa\n",
      "2 - Kéo\n",
      "3 - Bao\n",
      "Nhập số từ bàn phím: 1\n",
      "Người chơi lựa chọn: Búa\n",
      "Máy tính lựa chọn: Bao\n",
      "Bạn thua!\n",
      "Lựa chọn của bạn:\n",
      "1 - Búa\n",
      "2 - Kéo\n",
      "3 - Bao\n",
      "Nhập số từ bàn phím: 2\n",
      "Người chơi lựa chọn: Kéo\n",
      "Máy tính lựa chọn: Kéo\n",
      "Bạn thua!\n",
      "Lựa chọn của bạn:\n",
      "1 - Búa\n",
      "2 - Kéo\n",
      "3 - Bao\n",
      "Nhập số từ bàn phím: 1\n",
      "Người chơi lựa chọn: Búa\n",
      "Máy tính lựa chọn: Kéo\n",
      "Bạn thắng!\n"
     ]
    }
   ],
   "source": [
    "import random # từ chatGPT để tham khảo, không nên dùng vì chưa biết hàm def\n",
    "\n",
    "def play_game(player_choice):\n",
    "    computer_choice = random.randint(1, 3)\n",
    "\n",
    "    print(\"Người chơi lựa chọn:\", get_choice_name(player_choice))\n",
    "    print(\"Máy tính lựa chọn:\", get_choice_name(computer_choice))\n",
    "\n",
    "    result = determine_winner(player_choice, computer_choice)\n",
    "    if result == \"Thắng\":\n",
    "        print(\"Bạn thắng!\")\n",
    "        return True\n",
    "    else:\n",
    "        print(\"Bạn thua!\")\n",
    "        return False\n",
    "\n",
    "def get_choice_name(choice):\n",
    "    if choice == 1:\n",
    "        return \"Búa\"\n",
    "    elif choice == 2:\n",
    "        return \"Kéo\"\n",
    "    elif choice == 3:\n",
    "        return \"Bao\"\n",
    "\n",
    "def determine_winner(player_choice, computer_choice):\n",
    "    if player_choice == computer_choice:\n",
    "        return \"Hòa\"\n",
    "    elif (player_choice == 1 and computer_choice == 2) or \\\n",
    "         (player_choice == 2 and computer_choice == 3) or \\\n",
    "         (player_choice == 3 and computer_choice == 1):\n",
    "        return \"Thắng\"\n",
    "    else:\n",
    "        return \"Thua\"\n",
    "\n",
    "def main():\n",
    "    while True:\n",
    "        print(\"Lựa chọn của bạn:\")\n",
    "        print(\"1 - Búa\")\n",
    "        print(\"2 - Kéo\")\n",
    "        print(\"3 - Bao\")\n",
    "        player_choice = int(input(\"Nhập số từ bàn phím: \"))\n",
    "        if player_choice not in [1, 2, 3]:\n",
    "            print(\"Lựa chọn không hợp lệ. Vui lòng chọn lại!\")\n",
    "            continue\n",
    "\n",
    "        if play_game(player_choice):\n",
    "            break\n",
    "\n",
    "main()\n"
   ]
  }
 ],
 "metadata": {
  "kernelspec": {
   "display_name": "Python 3 (ipykernel)",
   "language": "python",
   "name": "python3"
  },
  "language_info": {
   "codemirror_mode": {
    "name": "ipython",
    "version": 3
   },
   "file_extension": ".py",
   "mimetype": "text/x-python",
   "name": "python",
   "nbconvert_exporter": "python",
   "pygments_lexer": "ipython3",
   "version": "3.11.3"
  }
 },
 "nbformat": 4,
 "nbformat_minor": 5
}
