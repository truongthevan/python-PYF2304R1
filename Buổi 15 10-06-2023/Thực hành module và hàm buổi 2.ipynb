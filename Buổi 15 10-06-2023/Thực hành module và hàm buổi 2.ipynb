{
 "cells": [
  {
   "cell_type": "markdown",
   "id": "fc334a70",
   "metadata": {},
   "source": [
    "## Bài 1: Is leap year?\n",
    "Viết hàm is_leap_year() nhận vào 1 tham số `year` và kiểm tra xem `year` có phải là năm nhuận hay không. Ví dụ: \n",
    "```\n",
    "is_leap_year(2000)\n",
    "\n",
    "Output: \n",
    "True\n",
    "```\n",
    "---\n",
    "```\n",
    "is_leap_year(2005)\n",
    "\n",
    "Output: \n",
    "False\n",
    "```"
   ]
  },
  {
   "cell_type": "code",
   "execution_count": 7,
   "id": "aa291585",
   "metadata": {},
   "outputs": [
    {
     "name": "stdout",
     "output_type": "stream",
     "text": [
      "False\n",
      "True\n",
      "True\n"
     ]
    }
   ],
   "source": [
    "def is_leap_year(year):\n",
    "    # code below this line\n",
    "    if (year % 4 == 0 and year % 100 != 0) or (year % 100 == 0 and year % 400 ==0):\n",
    "        return True\n",
    "    else:\n",
    "        return False\n",
    "\n",
    "    # code above this line\n",
    "    \n",
    "print(is_leap_year(2005))\n",
    "print(is_leap_year(10000))\n",
    "print(is_leap_year(2000))"
   ]
  },
  {
   "cell_type": "markdown",
   "id": "1e4ca713",
   "metadata": {},
   "source": [
    "## Bài 2: r_strip\n",
    "Viết hàm r_strip() nhận vào một tham số `string` và trả về `string` sau khi đã được cắt bỏ các khoảng trắng bị thừa\n",
    "Ví dụ:\n",
    "```\n",
    "r_strip('hello        ')\n",
    "\n",
    "Output:\n",
    "hello\n",
    "```"
   ]
  },
  {
   "cell_type": "code",
   "execution_count": 11,
   "id": "813613f0",
   "metadata": {},
   "outputs": [
    {
     "name": "stdout",
     "output_type": "stream",
     "text": [
      "hello\n",
      "truong the van\n"
     ]
    }
   ],
   "source": [
    "def r_strip(string):\n",
    "    # code below this line\n",
    "    print(string.strip())\n",
    "    return None\n",
    "    # code above this line\n",
    "\n",
    "r_strip('hello        ')\n",
    "r_strip('    truong the van')"
   ]
  },
  {
   "cell_type": "markdown",
   "id": "43c92e58",
   "metadata": {},
   "source": [
    "## Bài 3: is_prime\n",
    "Viết hàm is_prime() nhận vào một tham số `number` và cho biết `number` có phải là số nguyên tố hay không.\n",
    "Ví dụ:\n",
    "```\n",
    "is_prime(17)\n",
    "\n",
    "Output:\n",
    "True\n",
    "```\n",
    "---\n",
    "```\n",
    "is_prime(18)\n",
    "\n",
    "Output:\n",
    "False\n",
    "```"
   ]
  },
  {
   "cell_type": "code",
   "execution_count": 9,
   "id": "3e1dd926",
   "metadata": {},
   "outputs": [
    {
     "data": {
      "text/plain": [
       "False"
      ]
     },
     "execution_count": 9,
     "metadata": {},
     "output_type": "execute_result"
    }
   ],
   "source": [
    "def is_prime(n):\n",
    "    # code below this line\n",
    "    for i in range(2, n +1 ):\n",
    "        if n % i == 0:\n",
    "            return False # number không là số nguyên tố\n",
    "    else:\n",
    "        return True\n",
    "    # code above this line\n",
    "\n",
    "is_prime(49)"
   ]
  },
  {
   "cell_type": "code",
   "execution_count": 7,
   "id": "8e472742",
   "metadata": {},
   "outputs": [
    {
     "data": {
      "text/plain": [
       "False"
      ]
     },
     "execution_count": 7,
     "metadata": {},
     "output_type": "execute_result"
    }
   ],
   "source": [
    "def is_prime(number): # thầy giải, return True phải ngoài vòng lặp, bỏ else\n",
    "    for i in range(2, number):\n",
    "        if number % i == 0:\n",
    "            return False # number không là số nguyên tố\n",
    "    return True\n",
    "is_prime(49)"
   ]
  },
  {
   "cell_type": "markdown",
   "id": "b7aea8d8",
   "metadata": {},
   "source": [
    "## Bài 4: find all primes\n",
    "Viết hàm find_primes() nhận vào hai tham số `n_start` và `n_end` và in ra tất cả số nguyên tố trong khoảng [n_start, n_end].\n",
    "\n",
    "**Gợi ý** có thể sử dụng hàm is_prime() ở bài 3.\n",
    "\n",
    "Ví dụ:\n",
    "```\n",
    "find_primes(2, 24)\n",
    "\n",
    "Output:\n",
    "2 3 5 7 11 13 17 19 23\n",
    "```"
   ]
  },
  {
   "cell_type": "code",
   "execution_count": 2,
   "id": "46937ae8",
   "metadata": {},
   "outputs": [
    {
     "name": "stdout",
     "output_type": "stream",
     "text": [
      "2 3 5 7 11 13 17 19 23 29 "
     ]
    }
   ],
   "source": [
    "def find_primes(n_start, n_end):\n",
    "    # code below this line\n",
    "    for j in range(n_start, n_end + 1):\n",
    "        for i in range(2, j):\n",
    "            if j % i == 0:\n",
    "                break\n",
    "        else:\n",
    "            print(j, end=\" \")         \n",
    "        \n",
    "    # code above this line\n",
    "\n",
    "find_primes(2, 30)"
   ]
  },
  {
   "cell_type": "markdown",
   "id": "a8751a41",
   "metadata": {},
   "source": [
    "## Bài 5(Bonus): More about Fibo\n",
    "Viết hàm print_fibo_sequence() nhận vào tham số `n` và in ra n số đầu tiên trong dãy Fibonacci.\n",
    "\n",
    "Ví dụ: \n",
    "```\n",
    "print_fibo_sequence(7)\n",
    "\n",
    "Output:\n",
    "1 1 2 3 5 8 13\n",
    "```"
   ]
  },
  {
   "cell_type": "code",
   "execution_count": null,
   "id": "f0b8db21",
   "metadata": {},
   "outputs": [],
   "source": [
    "def print_fibo_sequence(...parameter here...):\n",
    "    # code below this line\n",
    "    pass\n",
    "    # code above this line\n",
    "\n",
    "print_fibo_sequence(7)"
   ]
  },
  {
   "attachments": {},
   "cell_type": "markdown",
   "id": "13f049b2",
   "metadata": {},
   "source": [
    "## Bài 6(Bonus): What is binary number?\n",
    "Trong thực tế, con người chúng ta quen với các số biểu diển bằng hệ thập phân, nhưng trên máy tính thì máy tính sử dụng hệ số Nhị phân với hai chữ số 0 hoặc 1 để biểu diển cho tất cả các dữ liệu.\n",
    "\n",
    "Trong bảng dưới ta thấy, để biểu diển các số thập phân, người ta dùng mười chữ số từ 0 đến 9. Để biểu diển Nhị phân thì người ta dùng hai số 0 và 1.\n",
    "\n",
    "![image-2.png](attachment:image-2.png)\n",
    "\n",
    "Để đổi một số thập phân sang Nhị phân, chúng ta lấy số muốn đổi sang nhị phân chia với 2 và sau đó lấy kết quả chia tiếp tục chia với 2, và lập lại phép chia này cho đến khi ta nhận được kết quả là 0 (từ trên xuống, theo mũi tên màu xanh). Ở phép chia này, ta lấy dư là 0 và 1. Sau khi chia đến kết quả bằng 0, ta sẽ lấy các con số dư ghi lại từ dưới lên (theo chiều mũi tên màu đỏ) ta được dãy số gồm 0 và 1, đây chính là giá trị ta cần tìm (các số dư chỉ là 0 và 1, không được chia kết quả ra phần lẻ, ví dụ như 2,5).\n",
    "\n",
    "![image-3.png](attachment:image-3.png)\n",
    "\n",
    "Trong phép chia trên, ta muốn tìm giá trị Nhị phân của số 11, ta lấy số 11 chia cho 2 và sau đó chia liên tục kết quả với 2 cho đến khi nào kết quả bằng 0. Sau đó, ta lấy số dư ghi lại và ta được kết quả Nhị phân của số 11 là 1011.\n",
    "\n",
    "Nhiệm vụ của bạn: Hãy viết hàm to_binary() nhận vào một tham số `number` và return dạng binary của `number`.\n",
    "\n",
    "Ví dụ:\n",
    "\n",
    "```\n",
    "to_binary(11)\n",
    "\n",
    "Output: \n",
    "1011\n",
    "```"
   ]
  },
  {
   "cell_type": "code",
   "execution_count": 34,
   "id": "d5ad4ca8",
   "metadata": {},
   "outputs": [
    {
     "data": {
      "text/plain": [
       "'110010'"
      ]
     },
     "execution_count": 34,
     "metadata": {},
     "output_type": "execute_result"
    }
   ],
   "source": [
    "def to_binary(n):\n",
    "    # code below this line\n",
    "    binary = \"\" # tạo biến binary ban đầu là string và không chứa gì\n",
    "    if n == 0:\n",
    "        binary = \"0\"\n",
    "    else:\n",
    "        while n > 0:\n",
    "            binary = str(n % 2) + binary # tiếp giá trị vào biến binary\n",
    "            n = n // 2 # chia cho 2 lấy phần nguyên\n",
    "        return binary\n",
    "    \n",
    "    # code above this line\n",
    "\n",
    "to_binary(50)\n"
   ]
  },
  {
   "cell_type": "code",
   "execution_count": 1,
   "id": "e4439121",
   "metadata": {},
   "outputs": [
    {
     "data": {
      "text/plain": [
       "'110010'"
      ]
     },
     "execution_count": 1,
     "metadata": {},
     "output_type": "execute_result"
    }
   ],
   "source": [
    "def to_binary(number):\n",
    "    binary_str = \"\"\n",
    "    while number != 0:\n",
    "        binary_str += str(number % 2)\n",
    "        number //= 2\n",
    "    return binary_str[::-1]\n",
    "\n",
    "to_binary(50)\n",
    "                     "
   ]
  },
  {
   "attachments": {
    "image.png": {
     "image/png": "[encoded data removed]"
    }
   },
   "cell_type": "markdown",
   "id": "44cdaa3b",
   "metadata": {},
   "source": [
    "![image.png](attachment:image.png)"
   ]
  },
  {
   "cell_type": "markdown",
   "id": "1bc143fc",
   "metadata": {},
   "source": [
    "## Bài 7: I love soccer\n",
    "Đội tuyển bóng đá quốc gia Việt Nam là đội tuyển bóng đá nam đại diện cho Việt Nam và do Liên đoàn bóng đá Việt Nam quản lý. Mặc dù đội chỉ được tham gia hai kỳ Asian Cup vào năm 2007 và 2019, đội bóng đã trở thành đội đại diện đến từ Đông Nam Á có thành tích tốt nhất trong giải này khi cả hai lần đều lọt vào tứ kết.\n",
    "\n",
    "Nhiệm vụ: Hãy viết hàm calc_score() nhận vào các tham số `win`, `draw` và `lose` để giúp Đội tuyển bóng đá Việt Nam tính điểm sau mỗi mùa đấu theo quy tắc như sau:\n",
    "- Mỗi trận `win` được tính 3 điểm\n",
    "- Mỗi trận `draw` được tính 1 điểm\n",
    "- Mỗi trận `lose` bị trừ 1 điểm\n",
    "\n",
    "\n",
    "**Lưu ý**: \n",
    "- `lose` là optional parameter. Nếu gọi function không có tham số `lose` thì coi như `lose` là 0.\n",
    "- Điểm tính ra sẽ được return về chứ không in trực tiếp\n",
    "\n",
    "```\n",
    "calc_score(3, 2, 1)\n",
    "\n",
    "Output:\n",
    "10\n",
    "```\n",
    "-------------------\n",
    "```\n",
    "calc_score(3, 0)\n",
    "\n",
    "Output:\n",
    "9\n",
    "```"
   ]
  },
  {
   "cell_type": "code",
   "execution_count": 5,
   "id": "52719fba",
   "metadata": {},
   "outputs": [
    {
     "data": {
      "text/plain": [
       "11"
      ]
     },
     "execution_count": 5,
     "metadata": {},
     "output_type": "execute_result"
    }
   ],
   "source": [
    "def calc_score(win, draw, lose = 0):\n",
    "    # code below this line\n",
    "    return (win * 3 + draw * 2 - lose)\n",
    "    \n",
    "    # code above this line\n",
    "\n",
    "calc_score(1, 4)"
   ]
  },
  {
   "cell_type": "markdown",
   "id": "843360c3",
   "metadata": {},
   "source": [
    "## Bài 8: Thung lũng Silicon\n",
    "Thung lũng Silicon là phần phía Nam của vùng vịnh San Francisco tại phía Bắc California ở Mỹ. Ban đầu tên này được dùng để chỉ một số lượng lớn các nhà phát minh và hãng sản xuất các loại chíp silicon, nhưng sau đó nó trở thành cái tên hoán dụ cho tất cả các khu thương mại công nghệ cao trong khu vực.\n",
    "\n",
    "Thung lũng Silicon là nơi tập trung của hàng ngàn tập đoàn công nghệ nổi tiếng như Facebook, Google, Apple, NDIVIA, Logitech... và là miền đất hứa của rất nhiều lập trình viên trên thế giới.\n",
    "\n",
    "Giả sử khoảng cách từ Cảng hàng không Quốc tế Tân Sơn Nhất đến Thung lũng Silicon là `s` km. Mỗi giờ máy bay sẽ di chuyển được khoảng cách là `k` km/h. Hãy tính thời gian `t` cần thiết để bay đến được Thung lũng Silicon.\n",
    "\n",
    "Nhiệm vụ: Viết hàm time_to_silicon_valey() nhận vào các tham số `s` và `k`, sau đó trả về thời gian `t` giờ tính được, làm tròn 2 chữ số thập phân.\n",
    "Ví dụ:\n",
    "```\n",
    "time_to_silicon_valey(14448, 800)\n",
    "\n",
    "Output:\n",
    "18.06\n",
    "```"
   ]
  },
  {
   "cell_type": "code",
   "execution_count": 4,
   "id": "f6bff52f",
   "metadata": {},
   "outputs": [
    {
     "data": {
      "text/plain": [
       "18.06"
      ]
     },
     "execution_count": 4,
     "metadata": {},
     "output_type": "execute_result"
    }
   ],
   "source": [
    "def time_to_silicon_valey(s, k):\n",
    "    # code below this line\n",
    "    t = s/k\n",
    "    return round(t, 2)\n",
    "    # code above this line\n",
    "\n",
    "time_to_silicon_valey(14448, 800)"
   ]
  }
 ],
 "metadata": {
  "kernelspec": {
   "display_name": "Python 3 (ipykernel)",
   "language": "python",
   "name": "python3"
  },
  "language_info": {
   "codemirror_mode": {
    "name": "ipython",
    "version": 3
   },
   "file_extension": ".py",
   "mimetype": "text/x-python",
   "name": "python",
   "nbconvert_exporter": "python",
   "pygments_lexer": "ipython3",
   "version": "3.11.3"
  }
 },
 "nbformat": 4,
 "nbformat_minor": 5
}
