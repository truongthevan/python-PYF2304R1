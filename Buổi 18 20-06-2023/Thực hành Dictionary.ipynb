{
 "cells": [
  {
   "cell_type": "code",
   "execution_count": 6,
   "id": "afeeef1e",
   "metadata": {
    "scrolled": false
   },
   "outputs": [
    {
     "name": "stdout",
     "output_type": "stream",
     "text": [
      "550\n",
      "1000\n",
      "500\n",
      "600\n",
      "400\n"
     ]
    }
   ],
   "source": [
    "\"\"\"\n",
    "Warm-up 1: Cho một danh sách sản phẩm như sau:\n",
    "products = {\n",
    "    'SMART WATCH': 550,\n",
    "    'PHONE' : 1000,\n",
    "    'PLAYSTATION': 500,\n",
    "    'LAPTOP' : 1550,\n",
    "    'MUSIC PLAYER' : 600,\n",
    "    'TABLET' : 400 \n",
    "}\n",
    "Viết chương trình hiển thị các sản phẩm có giá bé hơn hoặc bằng so với giá tiền mà người dùng nhập\n",
    "\"\"\"\n",
    "products = {\n",
    "    'SMART WATCH': 550,\n",
    "    'PHONE' : 1000,\n",
    "    'PLAYSTATION': 500,\n",
    "    'LAPTOP' : 1550,\n",
    "    'MUSIC PLAYER' : 600,\n",
    "    'TABLET' : 400 \n",
    "}\n",
    "def gia_nhap_vao(n):\n",
    "    for i in products.values():\n",
    "        if i <= n:\n",
    "            print(i)\n",
    "            \n",
    "gia_nhap_vao(1000)"
   ]
  },
  {
   "cell_type": "code",
   "execution_count": 10,
   "id": "af8f4c75",
   "metadata": {},
   "outputs": [
    {
     "ename": "SyntaxError",
     "evalue": "f-string: unmatched ')' (2432603714.py, line 12)",
     "output_type": "error",
     "traceback": [
      "\u001b[1;36m  Cell \u001b[1;32mIn[10], line 12\u001b[1;36m\u001b[0m\n\u001b[1;33m    print(f\"{i}({products[i])\", end=\"\\t\")\u001b[0m\n\u001b[1;37m                              ^\u001b[0m\n\u001b[1;31mSyntaxError\u001b[0m\u001b[1;31m:\u001b[0m f-string: unmatched ')'\n"
     ]
    }
   ],
   "source": [
    "products = {\n",
    "    'SMART WATCH': 550,\n",
    "    'PHONE' : 1000,\n",
    "    'PLAYSTATION': 500,\n",
    "    'LAPTOP' : 1550,\n",
    "    'MUSIC PLAYER' : 600,\n",
    "    'TABLET' : 400 \n",
    "}\n",
    "limit_money = int(input(\"nhap gia tien: \"))\n",
    "for i in products.keys():\n",
    "    if products[i] <= limit_money:\n",
    "        print(f\"{i}({products[i])\", end=\"\\t\")"
   ]
  },
  {
   "cell_type": "markdown",
   "id": "8c8e6996",
   "metadata": {},
   "source": [
    "## Bài 1: list to dict\n",
    "Cho 2 list có cùng số phần tử với nhau. Hãy tạo ra một dict từ 2 list đã cho theo format dưới đây:"
   ]
  },
  {
   "cell_type": "markdown",
   "id": "3a7678e1",
   "metadata": {},
   "source": [
    "**Input**"
   ]
  },
  {
   "cell_type": "code",
   "execution_count": null,
   "id": "0fbebf7c",
   "metadata": {},
   "outputs": [],
   "source": [
    "keys = ['Ten', 'Twenty', 'Thirty']\n",
    "values = [10, 20, 30]"
   ]
  },
  {
   "cell_type": "markdown",
   "id": "40e2e982",
   "metadata": {},
   "source": [
    "**Output**"
   ]
  },
  {
   "cell_type": "code",
   "execution_count": null,
   "id": "a39de7b9",
   "metadata": {},
   "outputs": [],
   "source": [
    "{'Ten': 10, 'Twenty': 20, 'Thirty': 30}"
   ]
  },
  {
   "cell_type": "markdown",
   "id": "a172c210",
   "metadata": {},
   "source": [
    "**Your code**"
   ]
  },
  {
   "cell_type": "code",
   "execution_count": 32,
   "id": "cc626371",
   "metadata": {},
   "outputs": [
    {
     "name": "stdout",
     "output_type": "stream",
     "text": [
      "{'Ten': 10, 'Twenty': 20, 'Thirty': 30}\n"
     ]
    }
   ],
   "source": [
    "keys = ['Ten', 'Twenty', 'Thirty']\n",
    "values = [10, 20, 30]\n",
    "# code below this line\n",
    "a = {}\n",
    "for i in range(0, len(keys)):\n",
    "    b = {keys[i]: values[i]}\n",
    "    a.update(b)\n",
    "print(a)\n",
    "# code above this line"
   ]
  },
  {
   "cell_type": "code",
   "execution_count": 12,
   "id": "e1e86c1a",
   "metadata": {},
   "outputs": [
    {
     "data": {
      "text/plain": [
       "{'Ten': 10, 'Twenty': 20, 'Thirty': 30}"
      ]
     },
     "execution_count": 12,
     "metadata": {},
     "output_type": "execute_result"
    }
   ],
   "source": [
    "keys = ['Ten', 'Twenty', 'Thirty'] # thay giai\n",
    "values = [10, 20, 30]\n",
    "my_dict={}\n",
    "for i in range(len(keys)):\n",
    "     my_dict[keys[i]] = values[i]\n",
    "my_dict"
   ]
  },
  {
   "cell_type": "markdown",
   "id": "42f7b4c2",
   "metadata": {},
   "source": [
    "## Bài 2: merge dictionary\n",
    "Hãy gộp 2 dictionary sau đây thành một."
   ]
  },
  {
   "cell_type": "markdown",
   "id": "dffe0f02",
   "metadata": {},
   "source": [
    "**Input**"
   ]
  },
  {
   "cell_type": "code",
   "execution_count": null,
   "id": "f4b5792d",
   "metadata": {},
   "outputs": [],
   "source": [
    "dict1 = {'Ten': 10, 'Twenty': 20, 'Thirty': 30}\n",
    "dict2 = {'Thirty': 30, 'Fourty': 40, 'Fifty': 50}"
   ]
  },
  {
   "cell_type": "markdown",
   "id": "e462fbb0",
   "metadata": {},
   "source": [
    "**Output**"
   ]
  },
  {
   "cell_type": "code",
   "execution_count": null,
   "id": "645f3aff",
   "metadata": {},
   "outputs": [],
   "source": [
    "{'Ten': 10, 'Twenty': 20, 'Thirty': 30, 'Fourty': 40, 'Fifty': 50}"
   ]
  },
  {
   "cell_type": "markdown",
   "id": "4dfb4297",
   "metadata": {},
   "source": [
    "**Your code**"
   ]
  },
  {
   "cell_type": "code",
   "execution_count": 31,
   "id": "9233356c",
   "metadata": {},
   "outputs": [
    {
     "name": "stdout",
     "output_type": "stream",
     "text": [
      "{'Ten': 10, 'Twenty': 20, 'Thirty': 30, 'Fourty': 40, 'Fifty': 50}\n"
     ]
    }
   ],
   "source": [
    "dict1 = {'Ten': 10, 'Twenty': 20, 'Thirty': 30}\n",
    "dict2 = {'Thirty': 30, 'Fourty': 40, 'Fifty': 50}\n",
    "# code below this line\n",
    "dict1.update(dict2)\n",
    "print(dict1)\n",
    "# code above this line"
   ]
  },
  {
   "cell_type": "code",
   "execution_count": 15,
   "id": "f47f8077",
   "metadata": {},
   "outputs": [
    {
     "data": {
      "text/plain": [
       "{'Ten': 10, 'Twenty': 20, 'Thirty': 30, 'Fourty': 40, 'Fifty': 50}"
      ]
     },
     "execution_count": 15,
     "metadata": {},
     "output_type": "execute_result"
    }
   ],
   "source": [
    "dict1 = {'Ten': 10, 'Twenty': 20, 'Thirty': 30}\n",
    "dict2 = {'Thirty': 30, 'Fourty': 40, 'Fifty': 50}\n",
    "for i in dict2.keys():\n",
    "    dict1[i] = dict2[i]\n",
    "dict1"
   ]
  },
  {
   "cell_type": "markdown",
   "id": "5b0ad3bc",
   "metadata": {},
   "source": [
    "## Bài 3: where is the value?\n",
    "Hãy in ra giá trị của \"history\" trong dictionary dưới đây."
   ]
  },
  {
   "cell_type": "markdown",
   "id": "89460c2d",
   "metadata": {},
   "source": [
    "**Input**"
   ]
  },
  {
   "cell_type": "code",
   "execution_count": null,
   "id": "7c4ec109",
   "metadata": {},
   "outputs": [],
   "source": [
    "sampleDict = { \n",
    "   \"class\":{ \n",
    "      \"student\":{ \n",
    "         \"name\":\"Mike\",\n",
    "         \"marks\":{ \n",
    "            \"physics\":70,\n",
    "            \"history\":80\n",
    "         }\n",
    "      }\n",
    "   }\n",
    "}"
   ]
  },
  {
   "cell_type": "markdown",
   "id": "30dfa5d1",
   "metadata": {},
   "source": [
    "**Output**"
   ]
  },
  {
   "cell_type": "code",
   "execution_count": null,
   "id": "6cb53007",
   "metadata": {},
   "outputs": [],
   "source": [
    "80"
   ]
  },
  {
   "cell_type": "markdown",
   "id": "8197abc9",
   "metadata": {},
   "source": [
    "**Your code**"
   ]
  },
  {
   "cell_type": "code",
   "execution_count": 17,
   "id": "8eb515ce",
   "metadata": {},
   "outputs": [
    {
     "name": "stdout",
     "output_type": "stream",
     "text": [
      "80\n"
     ]
    }
   ],
   "source": [
    "sampleDict = { \n",
    "   \"class\":{ \n",
    "      \"student\":{ \n",
    "         \"name\":\"Mike\",\n",
    "         \"marks\":{ \n",
    "            \"physics\":70,\n",
    "            \"history\":80\n",
    "         }\n",
    "      }\n",
    "   }\n",
    "}\n",
    "# code below this line\n",
    "print(sampleDict[\"class\"][\"student\"][\"marks\"][\"history\"])\n",
    "# code above this line"
   ]
  },
  {
   "cell_type": "markdown",
   "id": "f453f86a",
   "metadata": {},
   "source": [
    "## Bài 4: Delete set of keys from a dictionary\n",
    "Hãy xóa các key có trong set dưới đây ra khỏi dictionary."
   ]
  },
  {
   "cell_type": "markdown",
   "id": "ccd72d21",
   "metadata": {},
   "source": [
    "**Input**"
   ]
  },
  {
   "cell_type": "code",
   "execution_count": null,
   "id": "3726146b",
   "metadata": {},
   "outputs": [],
   "source": [
    "sampleDict = {\n",
    "  \"name\": \"Kelly\",\n",
    "  \"age\":25,\n",
    "  \"salary\": 8000,\n",
    "  \"city\": \"New york\"\n",
    "  \n",
    "}\n",
    "keysToRemove = {\"name\", \"salary\"}"
   ]
  },
  {
   "cell_type": "markdown",
   "id": "70d327b6",
   "metadata": {},
   "source": [
    "**Output:**"
   ]
  },
  {
   "cell_type": "code",
   "execution_count": null,
   "id": "ebba0549",
   "metadata": {},
   "outputs": [],
   "source": [
    "{'city': 'New york', 'age': 25}"
   ]
  },
  {
   "cell_type": "markdown",
   "id": "8c1f8fac",
   "metadata": {},
   "source": [
    "**Your code**"
   ]
  },
  {
   "cell_type": "code",
   "execution_count": 21,
   "id": "4bada72e",
   "metadata": {},
   "outputs": [
    {
     "name": "stdout",
     "output_type": "stream",
     "text": [
      "{'age': 25, 'city': 'New york'}\n"
     ]
    }
   ],
   "source": [
    "sampleDict = {\n",
    "  \"name\": \"Kelly\",\n",
    "  \"age\":25,\n",
    "  \"salary\": 8000,\n",
    "  \"city\": \"New york\"\n",
    "  \n",
    "}\n",
    "keysToRemove = {\"name\", \"salary\"}\n",
    "# code below this line\n",
    "for key in keysToRemove:\n",
    "        sampleDict.pop(key)\n",
    "print(sampleDict)\n",
    "# code above this line"
   ]
  },
  {
   "cell_type": "markdown",
   "id": "825df3a4",
   "metadata": {},
   "source": [
    "## Bài 5: Check if a value 200 exists in a dictionary\n",
    "Hãy kiểm tra xem số 200 có phải là value của dictionary dưới đây không nhé."
   ]
  },
  {
   "cell_type": "markdown",
   "id": "d71b7c57",
   "metadata": {},
   "source": [
    "**Input**"
   ]
  },
  {
   "cell_type": "code",
   "execution_count": null,
   "id": "fd74786b",
   "metadata": {},
   "outputs": [],
   "source": [
    "sampleDict = {'a': 100, 'b': 200, 'c': 300}"
   ]
  },
  {
   "cell_type": "markdown",
   "id": "b400a794",
   "metadata": {},
   "source": [
    "**Output**"
   ]
  },
  {
   "cell_type": "code",
   "execution_count": null,
   "id": "ee5c840b",
   "metadata": {},
   "outputs": [],
   "source": [
    "True"
   ]
  },
  {
   "cell_type": "markdown",
   "id": "0d2982b3",
   "metadata": {},
   "source": [
    "**Your code**"
   ]
  },
  {
   "cell_type": "code",
   "execution_count": 23,
   "id": "6f8eea2e",
   "metadata": {},
   "outputs": [
    {
     "name": "stdout",
     "output_type": "stream",
     "text": [
      "True\n",
      "True\n"
     ]
    }
   ],
   "source": [
    "sampleDict = {'a': 100, 'b': 200, 'c': 300}\n",
    "# code below this line\n",
    "for value  in sampleDict.values():\n",
    "    if value == 200:\n",
    "        print(True)\n",
    "        break\n",
    "print(200 in sampleDict.values())   \n",
    "# code above this line"
   ]
  },
  {
   "cell_type": "markdown",
   "id": "52558464",
   "metadata": {},
   "source": [
    "## Bài 6: rename key\n",
    "Hãy thay thế key `city` thành `location` trong dictionary dưới đây."
   ]
  },
  {
   "cell_type": "markdown",
   "id": "6f826d64",
   "metadata": {},
   "source": [
    "**Input**"
   ]
  },
  {
   "cell_type": "code",
   "execution_count": null,
   "id": "7083a37c",
   "metadata": {},
   "outputs": [],
   "source": [
    "sampleDict = {\n",
    "  \"name\": \"Kelly\",\n",
    "  \"age\":25,\n",
    "  \"salary\": 8000,\n",
    "  \"city\": \"New york\"\n",
    "}"
   ]
  },
  {
   "cell_type": "markdown",
   "id": "8d6c0b83",
   "metadata": {},
   "source": [
    "**Output**"
   ]
  },
  {
   "cell_type": "code",
   "execution_count": null,
   "id": "4e790a02",
   "metadata": {},
   "outputs": [],
   "source": [
    "{\n",
    "  \"name\": \"Kelly\",\n",
    "  \"age\":25,\n",
    "  \"salary\": 8000,\n",
    "  \"location\": \"New york\"\n",
    "}"
   ]
  },
  {
   "cell_type": "markdown",
   "id": "eddb6c6e",
   "metadata": {},
   "source": [
    "**Your code**"
   ]
  },
  {
   "cell_type": "code",
   "execution_count": 25,
   "id": "9b8d4901",
   "metadata": {},
   "outputs": [
    {
     "data": {
      "text/plain": [
       "{'name': 'Kelly', 'age': 25, 'salary': 8000, 'location': 'New york'}"
      ]
     },
     "execution_count": 25,
     "metadata": {},
     "output_type": "execute_result"
    }
   ],
   "source": [
    "sampleDict = {\n",
    "  \"name\": \"Kelly\",\n",
    "  \"age\":25,\n",
    "  \"salary\": 8000,\n",
    "  \"city\": \"New york\"\n",
    "}\n",
    "# code below this line\n",
    "v=sampleDict.pop(\"city\")\n",
    "sampleDict[\"location\"] = v\n",
    "sampleDict\n",
    "# code above this line"
   ]
  },
  {
   "cell_type": "markdown",
   "id": "8abc17f9",
   "metadata": {},
   "source": [
    "## Bài 7: key of minimum value\n",
    "Hãy in ra key chứa value nhỏ nhất trong dictionary dưới đây."
   ]
  },
  {
   "cell_type": "markdown",
   "id": "cb274e64",
   "metadata": {},
   "source": [
    "**Input**"
   ]
  },
  {
   "cell_type": "code",
   "execution_count": null,
   "id": "77ddb0d6",
   "metadata": {},
   "outputs": [],
   "source": [
    "sampleDict = {\n",
    "  'Physics': 82,\n",
    "  'Math': 65,\n",
    "  'history': 75\n",
    "}"
   ]
  },
  {
   "cell_type": "markdown",
   "id": "668f2a96",
   "metadata": {},
   "source": [
    "**Output**"
   ]
  },
  {
   "cell_type": "code",
   "execution_count": null,
   "id": "f8ebb7a8",
   "metadata": {},
   "outputs": [],
   "source": [
    "Math"
   ]
  },
  {
   "cell_type": "markdown",
   "id": "804d5a40",
   "metadata": {},
   "source": [
    "**Your code**"
   ]
  },
  {
   "cell_type": "code",
   "execution_count": 31,
   "id": "7c7e8f20",
   "metadata": {},
   "outputs": [
    {
     "name": "stdout",
     "output_type": "stream",
     "text": [
      "kaka\n"
     ]
    }
   ],
   "source": [
    "sampleDict = {\n",
    "  'Physics': 82,\n",
    "  'Math': 65,\n",
    "  'history': 75, \n",
    "    \"kaka\": 24\n",
    "}\n",
    "# code below this line\n",
    "vals = list(sampleDict.values())\n",
    "min_val = vals[0]\n",
    "for i in vals:\n",
    "    if min_val>i:\n",
    "        min_val=i\n",
    "for k, v in sampleDict.items(): # duyệt qua cả key và value, trả về key và value\n",
    "    if v == min_val:\n",
    "        print(k)\n",
    "\n",
    "# code above this line"
   ]
  },
  {
   "cell_type": "code",
   "execution_count": 32,
   "id": "06a22950",
   "metadata": {},
   "outputs": [
    {
     "data": {
      "text/plain": [
       "{'kaka': 24, 'Math': 65, 'history': 75, 'Physics': 82}"
      ]
     },
     "execution_count": 32,
     "metadata": {},
     "output_type": "execute_result"
    }
   ],
   "source": [
    "sorted_dict = dict(sorted(sampleDict.items(), key = lambda x:x[1], reverse=False))\n",
    "sorted_dict"
   ]
  },
  {
   "cell_type": "markdown",
   "id": "a4da8a8c",
   "metadata": {},
   "source": [
    "## Bài 8: new salary\n",
    "Hãy tăng lương(`salary`) cho Brad từ 6500 lên 8500 trong dictionary dưới đây nhé."
   ]
  },
  {
   "cell_type": "markdown",
   "id": "de769b5c",
   "metadata": {},
   "source": [
    "**Input**"
   ]
  },
  {
   "cell_type": "code",
   "execution_count": null,
   "id": "45d15b4f",
   "metadata": {},
   "outputs": [],
   "source": [
    "sampleDict = {\n",
    "     'emp1': {'name': 'Jhon', 'salary': 7500},\n",
    "     'emp2': {'name': 'Emma', 'salary': 8000},\n",
    "     'emp3': {'name': 'Brad', 'salary': 6500}\n",
    "}"
   ]
  },
  {
   "cell_type": "markdown",
   "id": "6fa3f5d2",
   "metadata": {},
   "source": [
    "**Output**"
   ]
  },
  {
   "cell_type": "code",
   "execution_count": null,
   "id": "67553b73",
   "metadata": {},
   "outputs": [],
   "source": [
    "sampleDict = {\n",
    "     'emp1': {'name': 'Jhon', 'salary': 7500},\n",
    "     'emp2': {'name': 'Emma', 'salary': 8000},\n",
    "     'emp3': {'name': 'Brad', 'salary': 8500}\n",
    "}"
   ]
  },
  {
   "cell_type": "markdown",
   "id": "91d6f922",
   "metadata": {},
   "source": [
    "**Your code**"
   ]
  },
  {
   "cell_type": "code",
   "execution_count": null,
   "id": "151cbe47",
   "metadata": {},
   "outputs": [],
   "source": [
    "sampleDict = {\n",
    "     'emp1': {'name': 'Jhon', 'salary': 7500},\n",
    "     'emp2': {'name': 'Emma', 'salary': 8000},\n",
    "     'emp3': {'name': 'Brad', 'salary': 6500}\n",
    "}\n",
    "# code below this line\n",
    "\n",
    "# code above this line"
   ]
  },
  {
   "attachments": {
    "image.png": {
     "image/png": "[encoded data removed]"
    }
   },
   "cell_type": "markdown",
   "id": "a43374b5",
   "metadata": {},
   "source": [
    "![image.png](attachment:image.png)"
   ]
  }
 ],
 "metadata": {
  "kernelspec": {
   "display_name": "Python 3 (ipykernel)",
   "language": "python",
   "name": "python3"
  },
  "language_info": {
   "codemirror_mode": {
    "name": "ipython",
    "version": 3
   },
   "file_extension": ".py",
   "mimetype": "text/x-python",
   "name": "python",
   "nbconvert_exporter": "python",
   "pygments_lexer": "ipython3",
   "version": "3.11.3"
  }
 },
 "nbformat": 4,
 "nbformat_minor": 5
}
