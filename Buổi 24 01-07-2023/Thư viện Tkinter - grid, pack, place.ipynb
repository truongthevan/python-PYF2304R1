{
 "cells": [
  {
   "cell_type": "markdown",
   "id": "4c559a90",
   "metadata": {},
   "source": [
    "## pack\n",
    "\n",
    "Lệnh `pack()` sẽ giúp sắp xếp các đối tượng theo thứ tự nhất định"
   ]
  },
  {
   "cell_type": "code",
   "execution_count": null,
   "id": "d6af98e3",
   "metadata": {},
   "outputs": [],
   "source": [
    "from tkinter import *\n",
    "\n",
    "window = Tk()\n",
    "window.title(\"Login\")\n",
    "\n",
    "lbl_login = Label(window, text=\"LOGIN\")\n",
    "lbl_username = Label(window, text=\"username\")\n",
    "lbl_password = Label(window, text=\"Password\")\n",
    "\n",
    "username = Entry(window)\n",
    "password = Entry(window)\n",
    "\n",
    "btn_login = Button(window, text=\"Login\")\n",
    "\n",
    "lbl_login.pack()\n",
    "lbl_username.pack()\n",
    "username.pack()\n",
    "lbl_password.pack()\n",
    "password.pack()\n",
    "btn_login.pack()\n",
    "window.mainloop()"
   ]
  },
  {
   "cell_type": "markdown",
   "id": "0093b00d",
   "metadata": {},
   "source": [
    "## grid\n",
    "Lệnh `grid()` sẽ giúp sắp xếp các đối tượng theo một bảng"
   ]
  },
  {
   "cell_type": "code",
   "execution_count": 2,
   "id": "d89cd306",
   "metadata": {},
   "outputs": [],
   "source": [
    "from tkinter import *\n",
    "\n",
    "window = Tk()\n",
    "window.title(\"Login\")\n",
    "\n",
    "lbl_login = Label(window, text=\"LOGIN\")\n",
    "lbl_username = Label(window, text=\"username\")\n",
    "lbl_password = Label(window, text=\"Password\")\n",
    "\n",
    "username = Entry(window)\n",
    "password = Entry(window)\n",
    "\n",
    "btn_login = Button(window, text=\"Login\")\n",
    "\n",
    "lbl_login.grid(row=0, column=0, columnspan=2) #tuong duong voi merce trong excel\n",
    "lbl_username.grid(row=1, column=0)\n",
    "username.grid(row=1, column=1)\n",
    "lbl_password.grid(row=2, column=0)\n",
    "password.grid(row=2, column=1)\n",
    "btn_login.grid(row=3, column=0)\n",
    "\n",
    "\n",
    "window.mainloop()"
   ]
  },
  {
   "cell_type": "markdown",
   "id": "f0a05577",
   "metadata": {},
   "source": [
    "## place\n",
    "\n",
    "Lệnh `place()` sắp xếp các widget bằng cách đặt chúng vào một vị trí cụ thể trong widget chính."
   ]
  },
  {
   "cell_type": "code",
   "execution_count": 28,
   "id": "070e6374",
   "metadata": {},
   "outputs": [],
   "source": [
    "from tkinter import *\n",
    "#import tkinter as tk\n",
    "#from tkinter import ttk\n",
    "#from tkinter.ttk import *\n",
    "\n",
    "window = Tk()\n",
    "window.title(\"Login\")\n",
    "window.geometry(\"500x300\")\n",
    "\n",
    "lbl_login = Label(window, text=\"LOGIN\")\n",
    "lbl_username = Label(window, text=\"Username\")\n",
    "lbl_password = Label(window, text=\"Password\")\n",
    "lbl_display = Label(window, text=\"Hello\")\n",
    "\n",
    "username = Entry(window)\n",
    "password = Entry(window)\n",
    "\n",
    "def clicked():\n",
    "    btn_login.configure(text=\"clicked\")\n",
    "    a=\"Nice to see you \" + username.get()\n",
    "    lbl_display.configure(text= a)\n",
    "\n",
    "btn_login = Button(window, text=\"ckick me\", activebackground=\"red\", command=clicked)\n",
    "\n",
    "lbl_login.place(x=200, y=10)\n",
    "lbl_username.place(x=130, y=30)\n",
    "username.place(x=200, y = 30)\n",
    "lbl_display.place(x=350, y =30)\n",
    "lbl_password.place(x=130, y=50)\n",
    "password.place(x=200, y = 50)\n",
    "btn_login.place(x=200, y=70)\n",
    "\n",
    "\n",
    "window.mainloop()"
   ]
  },
  {
   "cell_type": "code",
   "execution_count": 37,
   "id": "a092d407",
   "metadata": {
    "scrolled": true
   },
   "outputs": [
    {
     "name": "stdout",
     "output_type": "stream",
     "text": [
      "_cnfmerge: fallback due to: 'int' object is not iterable\n"
     ]
    },
    {
     "ename": "AttributeError",
     "evalue": "'int' object has no attribute 'items'",
     "output_type": "error",
     "traceback": [
      "\u001b[1;31m---------------------------------------------------------------------------\u001b[0m",
      "\u001b[1;31mTypeError\u001b[0m                                 Traceback (most recent call last)",
      "File \u001b[1;32m~\\AppData\\Local\\Programs\\Python\\Python311\\Lib\\tkinter\\__init__.py:112\u001b[0m, in \u001b[0;36m_cnfmerge\u001b[1;34m(cnfs)\u001b[0m\n\u001b[0;32m    111\u001b[0m \u001b[38;5;28;01mtry\u001b[39;00m:\n\u001b[1;32m--> 112\u001b[0m     \u001b[43mcnf\u001b[49m\u001b[38;5;241;43m.\u001b[39;49m\u001b[43mupdate\u001b[49m\u001b[43m(\u001b[49m\u001b[43mc\u001b[49m\u001b[43m)\u001b[49m\n\u001b[0;32m    113\u001b[0m \u001b[38;5;28;01mexcept\u001b[39;00m (\u001b[38;5;167;01mAttributeError\u001b[39;00m, \u001b[38;5;167;01mTypeError\u001b[39;00m) \u001b[38;5;28;01mas\u001b[39;00m msg:\n",
      "\u001b[1;31mTypeError\u001b[0m: 'int' object is not iterable",
      "\nDuring handling of the above exception, another exception occurred:\n",
      "\u001b[1;31mAttributeError\u001b[0m                            Traceback (most recent call last)",
      "Cell \u001b[1;32mIn[37], line 25\u001b[0m\n\u001b[0;32m     22\u001b[0m btn_login \u001b[38;5;241m=\u001b[39m Button(window, text\u001b[38;5;241m=\u001b[39m\u001b[38;5;124m\"\u001b[39m\u001b[38;5;124mckick me\u001b[39m\u001b[38;5;124m\"\u001b[39m)\n\u001b[0;32m     24\u001b[0m lbl_login\u001b[38;5;241m.\u001b[39mplace(x\u001b[38;5;241m=\u001b[39m\u001b[38;5;241m200\u001b[39m, y\u001b[38;5;241m=\u001b[39m\u001b[38;5;241m20\u001b[39m)\n\u001b[1;32m---> 25\u001b[0m \u001b[43mlbl_username\u001b[49m\u001b[38;5;241;43m.\u001b[39;49m\u001b[43mplace\u001b[49m\u001b[43m(\u001b[49m\u001b[38;5;241;43m100\u001b[39;49m\u001b[43m,\u001b[49m\u001b[43m \u001b[49m\u001b[43my\u001b[49m\u001b[43m \u001b[49m\u001b[38;5;241;43m=\u001b[39;49m\u001b[43m \u001b[49m\u001b[38;5;241;43m30\u001b[39;49m\u001b[43m)\u001b[49m\n\u001b[0;32m     26\u001b[0m username\u001b[38;5;241m.\u001b[39mplace(x\u001b[38;5;241m=\u001b[39m\u001b[38;5;241m200\u001b[39m, y\u001b[38;5;241m=\u001b[39m\u001b[38;5;241m30\u001b[39m)\n\u001b[0;32m     27\u001b[0m combo1\u001b[38;5;241m.\u001b[39mplace(x\u001b[38;5;241m=\u001b[39m\u001b[38;5;241m300\u001b[39m, y\u001b[38;5;241m=\u001b[39m\u001b[38;5;241m30\u001b[39m)\n",
      "File \u001b[1;32m~\\AppData\\Local\\Programs\\Python\\Python311\\Lib\\tkinter\\__init__.py:2506\u001b[0m, in \u001b[0;36mPlace.place_configure\u001b[1;34m(self, cnf, **kw)\u001b[0m\n\u001b[0;32m   2482\u001b[0m \u001b[38;5;28;01mdef\u001b[39;00m \u001b[38;5;21mplace_configure\u001b[39m(\u001b[38;5;28mself\u001b[39m, cnf\u001b[38;5;241m=\u001b[39m{}, \u001b[38;5;241m*\u001b[39m\u001b[38;5;241m*\u001b[39mkw):\n\u001b[0;32m   2483\u001b[0m \u001b[38;5;250m    \u001b[39m\u001b[38;5;124;03m\"\"\"Place a widget in the parent widget. Use as options:\u001b[39;00m\n\u001b[0;32m   2484\u001b[0m \u001b[38;5;124;03m    in=master - master relative to which the widget is placed\u001b[39;00m\n\u001b[0;32m   2485\u001b[0m \u001b[38;5;124;03m    in_=master - see 'in' option description\u001b[39;00m\n\u001b[1;32m   (...)\u001b[0m\n\u001b[0;32m   2502\u001b[0m \u001b[38;5;124;03m                                       master widget into account\u001b[39;00m\n\u001b[0;32m   2503\u001b[0m \u001b[38;5;124;03m    \"\"\"\u001b[39;00m\n\u001b[0;32m   2504\u001b[0m     \u001b[38;5;28mself\u001b[39m\u001b[38;5;241m.\u001b[39mtk\u001b[38;5;241m.\u001b[39mcall(\n\u001b[0;32m   2505\u001b[0m           (\u001b[38;5;124m'\u001b[39m\u001b[38;5;124mplace\u001b[39m\u001b[38;5;124m'\u001b[39m, \u001b[38;5;124m'\u001b[39m\u001b[38;5;124mconfigure\u001b[39m\u001b[38;5;124m'\u001b[39m, \u001b[38;5;28mself\u001b[39m\u001b[38;5;241m.\u001b[39m_w)\n\u001b[1;32m-> 2506\u001b[0m           \u001b[38;5;241m+\u001b[39m \u001b[38;5;28;43mself\u001b[39;49m\u001b[38;5;241;43m.\u001b[39;49m\u001b[43m_options\u001b[49m\u001b[43m(\u001b[49m\u001b[43mcnf\u001b[49m\u001b[43m,\u001b[49m\u001b[43m \u001b[49m\u001b[43mkw\u001b[49m\u001b[43m)\u001b[49m)\n",
      "File \u001b[1;32m~\\AppData\\Local\\Programs\\Python\\Python311\\Lib\\tkinter\\__init__.py:1527\u001b[0m, in \u001b[0;36mMisc._options\u001b[1;34m(self, cnf, kw)\u001b[0m\n\u001b[0;32m   1525\u001b[0m \u001b[38;5;250m\u001b[39m\u001b[38;5;124;03m\"\"\"Internal function.\"\"\"\u001b[39;00m\n\u001b[0;32m   1526\u001b[0m \u001b[38;5;28;01mif\u001b[39;00m kw:\n\u001b[1;32m-> 1527\u001b[0m     cnf \u001b[38;5;241m=\u001b[39m \u001b[43m_cnfmerge\u001b[49m\u001b[43m(\u001b[49m\u001b[43m(\u001b[49m\u001b[43mcnf\u001b[49m\u001b[43m,\u001b[49m\u001b[43m \u001b[49m\u001b[43mkw\u001b[49m\u001b[43m)\u001b[49m\u001b[43m)\u001b[49m\n\u001b[0;32m   1528\u001b[0m \u001b[38;5;28;01melse\u001b[39;00m:\n\u001b[0;32m   1529\u001b[0m     cnf \u001b[38;5;241m=\u001b[39m _cnfmerge(cnf)\n",
      "File \u001b[1;32m~\\AppData\\Local\\Programs\\Python\\Python311\\Lib\\tkinter\\__init__.py:115\u001b[0m, in \u001b[0;36m_cnfmerge\u001b[1;34m(cnfs)\u001b[0m\n\u001b[0;32m    113\u001b[0m     \u001b[38;5;28;01mexcept\u001b[39;00m (\u001b[38;5;167;01mAttributeError\u001b[39;00m, \u001b[38;5;167;01mTypeError\u001b[39;00m) \u001b[38;5;28;01mas\u001b[39;00m msg:\n\u001b[0;32m    114\u001b[0m         \u001b[38;5;28mprint\u001b[39m(\u001b[38;5;124m\"\u001b[39m\u001b[38;5;124m_cnfmerge: fallback due to:\u001b[39m\u001b[38;5;124m\"\u001b[39m, msg)\n\u001b[1;32m--> 115\u001b[0m         \u001b[38;5;28;01mfor\u001b[39;00m k, v \u001b[38;5;129;01min\u001b[39;00m \u001b[43mc\u001b[49m\u001b[38;5;241;43m.\u001b[39;49m\u001b[43mitems\u001b[49m():\n\u001b[0;32m    116\u001b[0m             cnf[k] \u001b[38;5;241m=\u001b[39m v\n\u001b[0;32m    117\u001b[0m \u001b[38;5;28;01mreturn\u001b[39;00m cnf\n",
      "\u001b[1;31mAttributeError\u001b[0m: 'int' object has no attribute 'items'"
     ]
    }
   ],
   "source": [
    "from tkinter import *\n",
    "\n",
    "#from tkinter.ttk import *\n",
    "\n",
    "window = Tk()\n",
    "window.title(\"Login\")\n",
    "window.geometry(\"500x300\")\n",
    "\n",
    "lbl_login = Label(window, text=\"LOGIN\")\n",
    "lbl_username = Label(window, text=\"Username\")\n",
    "lbl_password = Label(window, text=\"Password\")\n",
    "lbl_display = Label(window, text=\"Hello\")\n",
    "\n",
    "username = Entry(window)\n",
    "password = Entry(window)\n",
    "\n",
    "combo1 = Combobox(window)\n",
    "combo1.value=(1, 2, 3, 4, 5)\n",
    "combo1.current(1)\n",
    "combo2 = Combobox(window)\n",
    "\n",
    "btn_login = Button(window, text=\"ckick me\")\n",
    "\n",
    "lbl_login.place(x=200, y=20)\n",
    "lbl_username.place(100, y = 30)\n",
    "username.place(x=200, y=30)\n",
    "combo1.place(x=300, y=30)\n"
   ]
  },
  {
   "cell_type": "code",
   "execution_count": 3,
   "id": "9b7dde3d",
   "metadata": {},
   "outputs": [],
   "source": [
    "from tkinter import *\n",
    "\n",
    "from tkinter.ttk import *\n",
    "window = Tk()\n",
    "window.title(\"ĐƠN VỊ VẬN CHUYỂN\")\n",
    "window.geometry('350x200')\n",
    "\n",
    "lbl_title = Label(window, text=\"please input entry\")\n",
    "lbl_title.grid(row=2, column=1)\n",
    "username = Entry(window)\n",
    "username.grid(row=0, column=0)\n",
    "\n",
    "#def clicked():\n",
    "    #combo.current(3)\n",
    "    #a= username.get() +\" \"+ combo.get()\n",
    "    #lbl_title.configure(text=a)\n",
    "    \n",
    "btn_login = Button(window, text=\"ckick me\", command=clicked)\n",
    "btn_login.grid(row=3, column=1)\n",
    "\n",
    "#Tạo hộp chọn Combobox\n",
    "combo = Combobox(window)\n",
    "#Các giá trị của hộp chọn\n",
    "combo['values']= (\"Bình Dương\", \"Hà Nội\", \"Hải Phòng\", \"Huế\", \"Text\")\n",
    "#Thiết lập giá trị được chọn\n",
    "#combo.current(1) #set the selected item\n",
    "\n",
    "combo.grid(row=0, column=1)\n",
    "#Lấy giá trị của hộp chọn bằng combo.get()\n",
    "\n",
    "\n",
    "\n",
    "window.mainloop()"
   ]
  }
 ],
 "metadata": {
  "kernelspec": {
   "display_name": "Python 3 (ipykernel)",
   "language": "python",
   "name": "python3"
  },
  "language_info": {
   "codemirror_mode": {
    "name": "ipython",
    "version": 3
   },
   "file_extension": ".py",
   "mimetype": "text/x-python",
   "name": "python",
   "nbconvert_exporter": "python",
   "pygments_lexer": "ipython3",
   "version": "3.11.3"
  }
 },
 "nbformat": 4,
 "nbformat_minor": 5
}
