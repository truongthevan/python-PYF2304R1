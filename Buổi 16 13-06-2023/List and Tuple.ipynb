{
 "cells": [
  {
   "cell_type": "markdown",
   "metadata": {},
   "source": [
    "## Review: type()"
   ]
  },
  {
   "cell_type": "code",
   "execution_count": 4,
   "metadata": {},
   "outputs": [
    {
     "name": "stdout",
     "output_type": "stream",
     "text": [
      "<class 'int'>\n",
      "<class 'float'>\n",
      "<class 'bool'>\n",
      "<class 'str'>\n"
     ]
    }
   ],
   "source": [
    "# Python có 4 kiểu dữ liệu cơ bản\n",
    "print(type(2))\n",
    "print(type(0.3))\n",
    "print(type(True))\n",
    "print(type(\"hello\"))"
   ]
  },
  {
   "cell_type": "markdown",
   "metadata": {},
   "source": [
    "## list là gì?"
   ]
  },
  {
   "cell_type": "code",
   "execution_count": null,
   "metadata": {},
   "outputs": [],
   "source": [
    "# Ví dụ\n",
    "diem_van_1 = 7\n",
    "diem_toan_1 = 8\n",
    "diem_anh_1 = 9\n",
    "diem_van_2 = 5\n",
    "diem_toan_2 = 7\n",
    "diem_anh_2 = 6.5"
   ]
  },
  {
   "cell_type": "code",
   "execution_count": 5,
   "metadata": {
    "scrolled": true
   },
   "outputs": [
    {
     "data": {
      "text/plain": [
       "[1.0, 2, 3.54, True, 'Van', [1, 2, 3]]"
      ]
     },
     "execution_count": 5,
     "metadata": {},
     "output_type": "execute_result"
    }
   ],
   "source": [
    "# Sử dụng list\n",
    "[1, 2, 3]\n",
    "[\"python\", \"van\", True, False]\n",
    "[1.0, 2, 3.54, True, \"Van\", [1, 2, 3]]\n"
   ]
  },
  {
   "cell_type": "code",
   "execution_count": 12,
   "metadata": {},
   "outputs": [
    {
     "name": "stdout",
     "output_type": "stream",
     "text": [
      "4\n",
      "['monday', 'tuesday', 'wenesday', 'thursday']\n",
      "0 - monday\n",
      "1 - tuesday\n",
      "2 - wenesday\n",
      "3 - thursday\n",
      "...............\n",
      "monday\n",
      "tuesday\n",
      "wenesday\n",
      "thursday\n",
      "...............\n",
      "wenesday\n",
      "['wenesday', 'thursday']\n"
     ]
    }
   ],
   "source": [
    "weekdays = [\"monday\", \"tuesday\", \"wenesday\", \"thursday\"]\n",
    "print(len(weekdays))\n",
    "print(weekdays)\n",
    "for i in range(len(weekdays)):\n",
    "    print(i, \"-\", weekdays[i])\n",
    "    \n",
    "print(\"...............\")\n",
    "\n",
    "for day in weekdays:\n",
    "    print(day)\n",
    "print(\"...............\")\n",
    "\n",
    "print(weekdays[2])\n",
    "print(weekdays[2:4])"
   ]
  },
  {
   "cell_type": "markdown",
   "metadata": {},
   "source": [
    "### Thực hành: Viết chương trình tạo ra một list các string khác nhau và đếm tổng số lượng string dài hơn 3 kí tự"
   ]
  },
  {
   "cell_type": "code",
   "execution_count": 17,
   "metadata": {},
   "outputs": [
    {
     "name": "stdout",
     "output_type": "stream",
     "text": [
      "số string nhiều hơn 3 kí tự là: 3\n"
     ]
    }
   ],
   "source": [
    "random_contents = [\"abcde\", \"ab\", \"c\", \"abc\", \"akakak\", \"jdkkkjf\"]\n",
    "number = 0\n",
    "for i in random_contents:\n",
    "    if len(i) > 3:\n",
    "        number += 1\n",
    "print(f\"số string nhiều hơn 3 kí tự là: {number}\")\n",
    "    "
   ]
  },
  {
   "cell_type": "code",
   "execution_count": null,
   "metadata": {},
   "outputs": [],
   "source": [
    "random_contents = [\"abcde\", \"ab\", \"c\", \"abc\", \"akakak\", \"jdkkkjf\"]\n",
    "count = 0\n",
    "\n",
    "for i in range(len(random_contents)):\n",
    "    \n",
    "    "
   ]
  },
  {
   "cell_type": "markdown",
   "metadata": {},
   "source": [
    "### Thực hành 2: Viết chương trình nhận vào 2 list và trả về True nếu 2 list có ít nhất 1 phần tử chung, ngược lại trả về False"
   ]
  },
  {
   "cell_type": "code",
   "execution_count": null,
   "metadata": {},
   "outputs": [],
   "source": []
  },
  {
   "cell_type": "markdown",
   "metadata": {},
   "source": [
    "## Các thao tác cơ bản với list"
   ]
  },
  {
   "cell_type": "markdown",
   "metadata": {},
   "source": [
    "### Kiểm tra độ dài list"
   ]
  },
  {
   "cell_type": "code",
   "execution_count": 18,
   "metadata": {},
   "outputs": [
    {
     "name": "stdout",
     "output_type": "stream",
     "text": [
      "5\n"
     ]
    }
   ],
   "source": [
    "number = [0, 1, 3, 9, 18]\n",
    "print(len(number))"
   ]
  },
  {
   "cell_type": "markdown",
   "metadata": {},
   "source": [
    "### Truy cập phần tử trên list"
   ]
  },
  {
   "cell_type": "code",
   "execution_count": 22,
   "metadata": {
    "scrolled": true
   },
   "outputs": [
    {
     "name": "stdout",
     "output_type": "stream",
     "text": [
      "3\n",
      "3\n",
      "[0, 1, 20, 9, 18]\n"
     ]
    }
   ],
   "source": [
    "number = [0, 1, 3, 9, 18]\n",
    "print(number[2]) # indexing\n",
    "print(number[-3]) # reverse indexing\n",
    "\n",
    "number[2] = 20 # item assignment, lấy ra phần tử của list và ghi đè lên giá trị\n",
    "print(number)"
   ]
  },
  {
   "cell_type": "code",
   "execution_count": null,
   "metadata": {},
   "outputs": [],
   "source": [
    "content = \"hello\"\n"
   ]
  },
  {
   "cell_type": "markdown",
   "metadata": {},
   "source": [
    "### Thực hành: Tạo một list 10 số tự nhiên và in ra các phần tử trong list"
   ]
  },
  {
   "cell_type": "code",
   "execution_count": 24,
   "metadata": {},
   "outputs": [
    {
     "name": "stdout",
     "output_type": "stream",
     "text": [
      "0\n",
      "1\n",
      "2\n",
      "3\n",
      "4\n",
      "5\n",
      "6\n",
      "7\n",
      "8\n",
      "9\n"
     ]
    }
   ],
   "source": [
    "numbers = [0, 1, 2, 3, 4, 5, 6, 7, 8, 9]\n",
    "for i in numbers:\n",
    "    print(i)"
   ]
  },
  {
   "cell_type": "markdown",
   "metadata": {},
   "source": [
    "### Thực hành 2: Tạo ra một list con chưa 2 phần tử cuối cùng từ list đã tạo ở trên"
   ]
  },
  {
   "cell_type": "code",
   "execution_count": 41,
   "metadata": {},
   "outputs": [
    {
     "name": "stdout",
     "output_type": "stream",
     "text": [
      "[8, 9]\n",
      "[9, 9]\n",
      "[8, 9]\n"
     ]
    }
   ],
   "source": [
    "numbers = [0, 1, 2, 3, 4, 5, 6, 7, 8, 9]\n",
    "# [8, 9]\n",
    "\n",
    "# cách 1\n",
    "sub_list = [numbers[-2], numbers[-1]]\n",
    "print(sub_list)\n",
    "\n",
    "# cách 2\n",
    "sub_list = [number[len(numbers) - 2], numbers[len(numbers) - 1]]\n",
    "print(sub_list)\n",
    "\n",
    "# cách 3\n",
    "sub_list = numbers[-2:]\n",
    "print(sub_list)"
   ]
  },
  {
   "cell_type": "markdown",
   "metadata": {},
   "source": [
    "### Cộng list"
   ]
  },
  {
   "cell_type": "code",
   "execution_count": 33,
   "metadata": {},
   "outputs": [
    {
     "name": "stdout",
     "output_type": "stream",
     "text": [
      "[1, 2, 3, 2, 3, 6]\n",
      "[1, 2, 3, 1, 2, 3, 1, 2, 3]\n"
     ]
    }
   ],
   "source": [
    "a = [1, 2, 3]\n",
    "b = [2, 3, 6]\n",
    "c = a + b\n",
    "print(c)\n",
    "\n",
    "d = a * 3\n",
    "print(d)"
   ]
  },
  {
   "cell_type": "markdown",
   "metadata": {},
   "source": [
    "### Thực hành: Thêm học sinh vào lớp"
   ]
  },
  {
   "cell_type": "code",
   "execution_count": 5,
   "metadata": {},
   "outputs": [
    {
     "name": "stdout",
     "output_type": "stream",
     "text": [
      "['Andy', 'Bella', 'Chris', 'Dan', 'Ema', 'Ferb']\n",
      "['Andy', 'Bella', 'Chris', 'Dan', 'Ema', 'Ferb', 'Ema', 'Ferb']\n",
      "['Andy', 'Bella', 'Chris', 'Dan', 'Ema', 'Ferb', 'Ema', 'Ferb', 'ginda']\n"
     ]
    }
   ],
   "source": [
    "danh_sach_lop = [\"Andy\", \"Bella\", \"Chris\", \"Dan\"]\n",
    "hoc_sinh_moi = [\"Ema\", \"Ferb\"]\n",
    "\n",
    "# cach1\n",
    "danh_sach_lop += hoc_sinh_moi\n",
    "print(danh_sach_lop)\n",
    "\n",
    "# cach2\n",
    "danh_sach_lop.extend(hoc_sinh_moi)\n",
    "print(danh_sach_lop)\n",
    "\n",
    "# cach3\n",
    "danh_sach_lop.append(\"ginda\")\n",
    "print(danh_sach_lop)"
   ]
  },
  {
   "cell_type": "markdown",
   "metadata": {},
   "source": [
    "### Kiểm tra phần tử tồn tại trong list"
   ]
  },
  {
   "cell_type": "code",
   "execution_count": 37,
   "metadata": {},
   "outputs": [
    {
     "name": "stdout",
     "output_type": "stream",
     "text": [
      "True\n",
      "True\n"
     ]
    }
   ],
   "source": [
    "content = \"hello\"\n",
    "print('e' in content)\n",
    "\n",
    "student_list = [\"van\", \"hoa\", \"hoc\"]\n",
    "print(\"van\" in student_list)"
   ]
  },
  {
   "cell_type": "markdown",
   "metadata": {},
   "source": [
    "### Xóa phần tử khỏi list"
   ]
  },
  {
   "cell_type": "code",
   "execution_count": 8,
   "metadata": {},
   "outputs": [
    {
     "name": "stdout",
     "output_type": "stream",
     "text": [
      "['hoa', 'hoc']\n",
      "['van', 'hoc']\n",
      "['van', 'hoa']\n",
      "hoc\n"
     ]
    }
   ],
   "source": [
    "student_list = [\"van\", \"hoa\", \"hoc\"]\n",
    "\n",
    "# cách 1 xoa theo gia tri\n",
    "student_list.remove(\"van\")\n",
    "print(student_list)\n",
    "\n",
    "# cách 2 xoa the index\n",
    "student_list = [\"van\", \"hoa\", \"hoc\"]\n",
    "del student_list[1]\n",
    "print(student_list)\n",
    "\n",
    "# cach3 xoa gia tri cuoi\n",
    "student_list = [\"van\", \"hoa\", \"hoc\"]\n",
    "remove_name = student_list.pop()\n",
    "print(student_list)\n",
    "print(remove_name)"
   ]
  },
  {
   "cell_type": "markdown",
   "metadata": {},
   "source": [
    "### Sắp xếp list"
   ]
  },
  {
   "cell_type": "code",
   "execution_count": 17,
   "metadata": {
    "scrolled": true
   },
   "outputs": [
    {
     "name": "stdout",
     "output_type": "stream",
     "text": [
      "list before sort: [1, 4, 79, 5, 2, 1919]\n",
      "list after sort: [1, 2, 4, 5, 79, 1919]\n",
      "[1919, 79, 5, 4, 2, 1]\n"
     ]
    }
   ],
   "source": [
    "a = [1, 4, 79, 5, 2, 1919]\n",
    "# cach1\n",
    "print(f\"list before sort: {a}\")\n",
    "a.sort()\n",
    "print(f\"list after sort: {a}\")\n",
    "a.sort(reverse=True)  # sắp xếp theo thứ tự lớn đến bé\n",
    "print(a)\n"
   ]
  },
  {
   "cell_type": "code",
   "execution_count": 18,
   "metadata": {},
   "outputs": [
    {
     "name": "stdout",
     "output_type": "stream",
     "text": [
      "list [1, 4, 79, 5, 2, 1919]\n",
      "list [1, 2, 4, 5, 79, 1919]\n"
     ]
    }
   ],
   "source": [
    "a = [1, 4, 79, 5, 2, 1919]\n",
    "# cách2 sorted()\n",
    "b = sorted(a, reverse=False)\n",
    "print(f\"list {a}\")\n",
    "print(f\"list {b}\")\n"
   ]
  },
  {
   "cell_type": "code",
   "execution_count": 16,
   "metadata": {},
   "outputs": [
    {
     "name": "stdout",
     "output_type": "stream",
     "text": [
      "Sort the list in ascending order and return None.\n",
      "\n",
      "The sort is in-place (i.e. the list itself is modified) and stable (i.e. the\n",
      "order of two equal elements is maintained).\n",
      "\n",
      "If a key function is given, apply it once to each list item and sort them,\n",
      "ascending or descending, according to their function values.\n",
      "\n",
      "The reverse flag can be set to sort in descending order.\n"
     ]
    }
   ],
   "source": [
    "print(a.sort.__doc__)"
   ]
  },
  {
   "cell_type": "markdown",
   "metadata": {},
   "source": [
    "### Làm rỗng list"
   ]
  },
  {
   "cell_type": "code",
   "execution_count": 19,
   "metadata": {},
   "outputs": [
    {
     "name": "stdout",
     "output_type": "stream",
     "text": [
      "[]\n"
     ]
    }
   ],
   "source": [
    "a = [1, 4, 79, 5, 2, 1919]\n",
    "a = []\n",
    "a.clear()\n",
    "print(a)"
   ]
  },
  {
   "cell_type": "markdown",
   "metadata": {},
   "source": [
    "### Copy list"
   ]
  },
  {
   "attachments": {
    "image.png": {
     "image/png": "[encoded data removed]"
    }
   },
   "cell_type": "markdown",
   "metadata": {},
   "source": [
    "![image.png](attachment:image.png)"
   ]
  },
  {
   "cell_type": "markdown",
   "metadata": {},
   "source": [
    "## tuple"
   ]
  },
  {
   "cell_type": "code",
   "execution_count": 20,
   "metadata": {},
   "outputs": [
    {
     "name": "stdout",
     "output_type": "stream",
     "text": [
      "python\n",
      "3-5-7\n",
      "2\n"
     ]
    }
   ],
   "source": [
    "info = (\"python\", \"3-5-7\", 2)\n",
    "# unpack tuple\n",
    "a, b, c = info\n",
    "\n",
    "print(a)\n",
    "print(b)\n",
    "print(c)"
   ]
  }
 ],
 "metadata": {
  "kernelspec": {
   "display_name": "Python 3 (ipykernel)",
   "language": "python",
   "name": "python3"
  },
  "language_info": {
   "codemirror_mode": {
    "name": "ipython",
    "version": 3
   },
   "file_extension": ".py",
   "mimetype": "text/x-python",
   "name": "python",
   "nbconvert_exporter": "python",
   "pygments_lexer": "ipython3",
   "version": "3.11.3"
  }
 },
 "nbformat": 4,
 "nbformat_minor": 4
}
